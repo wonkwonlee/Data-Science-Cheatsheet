{
  "nbformat": 4,
  "nbformat_minor": 0,
  "metadata": {
    "colab": {
      "name": "HW1_DSGA1017_wl2733",
      "provenance": [],
      "collapsed_sections": []
    },
    "kernelspec": {
      "display_name": "Python 3",
      "name": "python3"
    }
  },
  "cells": [
    {
      "cell_type": "markdown",
      "metadata": {
        "id": "43DBqagWutAE"
      },
      "source": [
        "# Responsible Data Science Spring 2022: Homework 1"
      ]
    },
    {
      "cell_type": "code",
      "source": [
        "!git clone https://github.com/lurosenb/superquail\n",
        "!pip install aif360==0.3.0 \n",
        "!pip install BlackBoxAuditing\n",
        "!pip install tensorflow==1.13.1\n",
        "!pip install folktables"
      ],
      "metadata": {
        "id": "gtYGFyqSm2nk",
        "colab": {
          "base_uri": "https://localhost:8080/"
        },
        "outputId": "f309e21e-c975-4240-f0cb-75c20b713dd4"
      },
      "execution_count": 1,
      "outputs": [
        {
          "output_type": "stream",
          "name": "stdout",
          "text": [
            "Cloning into 'superquail'...\n",
            "remote: Enumerating objects: 24, done.\u001b[K\n",
            "remote: Counting objects: 100% (24/24), done.\u001b[K\n",
            "remote: Compressing objects: 100% (20/20), done.\u001b[K\n",
            "remote: Total 24 (delta 1), reused 20 (delta 1), pack-reused 0\u001b[K\n",
            "Unpacking objects: 100% (24/24), done.\n",
            "Collecting aif360==0.3.0\n",
            "  Downloading aif360-0.3.0-py3-none-any.whl (165 kB)\n",
            "\u001b[K     |████████████████████████████████| 165 kB 16.0 MB/s \n",
            "\u001b[?25hRequirement already satisfied: matplotlib in /usr/local/lib/python3.7/dist-packages (from aif360==0.3.0) (3.2.2)\n",
            "Requirement already satisfied: scipy>=1.2.0 in /usr/local/lib/python3.7/dist-packages (from aif360==0.3.0) (1.4.1)\n",
            "Requirement already satisfied: scikit-learn>=0.21 in /usr/local/lib/python3.7/dist-packages (from aif360==0.3.0) (1.0.2)\n",
            "Requirement already satisfied: numpy>=1.16 in /usr/local/lib/python3.7/dist-packages (from aif360==0.3.0) (1.21.5)\n",
            "Requirement already satisfied: pandas>=0.24.0 in /usr/local/lib/python3.7/dist-packages (from aif360==0.3.0) (1.3.5)\n",
            "Requirement already satisfied: pytz>=2017.3 in /usr/local/lib/python3.7/dist-packages (from pandas>=0.24.0->aif360==0.3.0) (2018.9)\n",
            "Requirement already satisfied: python-dateutil>=2.7.3 in /usr/local/lib/python3.7/dist-packages (from pandas>=0.24.0->aif360==0.3.0) (2.8.2)\n",
            "Requirement already satisfied: six>=1.5 in /usr/local/lib/python3.7/dist-packages (from python-dateutil>=2.7.3->pandas>=0.24.0->aif360==0.3.0) (1.15.0)\n",
            "Requirement already satisfied: threadpoolctl>=2.0.0 in /usr/local/lib/python3.7/dist-packages (from scikit-learn>=0.21->aif360==0.3.0) (3.1.0)\n",
            "Requirement already satisfied: joblib>=0.11 in /usr/local/lib/python3.7/dist-packages (from scikit-learn>=0.21->aif360==0.3.0) (1.1.0)\n",
            "Requirement already satisfied: cycler>=0.10 in /usr/local/lib/python3.7/dist-packages (from matplotlib->aif360==0.3.0) (0.11.0)\n",
            "Requirement already satisfied: kiwisolver>=1.0.1 in /usr/local/lib/python3.7/dist-packages (from matplotlib->aif360==0.3.0) (1.3.2)\n",
            "Requirement already satisfied: pyparsing!=2.0.4,!=2.1.2,!=2.1.6,>=2.0.1 in /usr/local/lib/python3.7/dist-packages (from matplotlib->aif360==0.3.0) (3.0.7)\n",
            "Installing collected packages: aif360\n",
            "Successfully installed aif360-0.3.0\n",
            "Collecting BlackBoxAuditing\n",
            "  Downloading BlackBoxAuditing-0.1.54.tar.gz (2.6 MB)\n",
            "\u001b[K     |████████████████████████████████| 2.6 MB 15.3 MB/s \n",
            "\u001b[?25hRequirement already satisfied: networkx in /usr/local/lib/python3.7/dist-packages (from BlackBoxAuditing) (2.6.3)\n",
            "Requirement already satisfied: matplotlib in /usr/local/lib/python3.7/dist-packages (from BlackBoxAuditing) (3.2.2)\n",
            "Requirement already satisfied: pandas in /usr/local/lib/python3.7/dist-packages (from BlackBoxAuditing) (1.3.5)\n",
            "Requirement already satisfied: numpy in /usr/local/lib/python3.7/dist-packages (from BlackBoxAuditing) (1.21.5)\n",
            "Requirement already satisfied: pyparsing!=2.0.4,!=2.1.2,!=2.1.6,>=2.0.1 in /usr/local/lib/python3.7/dist-packages (from matplotlib->BlackBoxAuditing) (3.0.7)\n",
            "Requirement already satisfied: python-dateutil>=2.1 in /usr/local/lib/python3.7/dist-packages (from matplotlib->BlackBoxAuditing) (2.8.2)\n",
            "Requirement already satisfied: kiwisolver>=1.0.1 in /usr/local/lib/python3.7/dist-packages (from matplotlib->BlackBoxAuditing) (1.3.2)\n",
            "Requirement already satisfied: cycler>=0.10 in /usr/local/lib/python3.7/dist-packages (from matplotlib->BlackBoxAuditing) (0.11.0)\n",
            "Requirement already satisfied: six>=1.5 in /usr/local/lib/python3.7/dist-packages (from python-dateutil>=2.1->matplotlib->BlackBoxAuditing) (1.15.0)\n",
            "Requirement already satisfied: pytz>=2017.3 in /usr/local/lib/python3.7/dist-packages (from pandas->BlackBoxAuditing) (2018.9)\n",
            "Building wheels for collected packages: BlackBoxAuditing\n",
            "  Building wheel for BlackBoxAuditing (setup.py) ... \u001b[?25l\u001b[?25hdone\n",
            "  Created wheel for BlackBoxAuditing: filename=BlackBoxAuditing-0.1.54-py2.py3-none-any.whl size=1394770 sha256=ede777e400c899abba6a0181322aa0531f306dc2f7ab8362b178be5a098935db\n",
            "  Stored in directory: /root/.cache/pip/wheels/05/9f/ee/541a74be4cf5dad17430e64d3276370ea7b6a834a76cb4215a\n",
            "Successfully built BlackBoxAuditing\n",
            "Installing collected packages: BlackBoxAuditing\n",
            "Successfully installed BlackBoxAuditing-0.1.54\n",
            "Collecting tensorflow==1.13.1\n",
            "  Downloading tensorflow-1.13.1-cp37-cp37m-manylinux1_x86_64.whl (92.6 MB)\n",
            "\u001b[K     |████████████████████████████████| 92.6 MB 1.3 MB/s \n",
            "\u001b[?25hCollecting tensorboard<1.14.0,>=1.13.0\n",
            "  Downloading tensorboard-1.13.1-py3-none-any.whl (3.2 MB)\n",
            "\u001b[K     |████████████████████████████████| 3.2 MB 43.1 MB/s \n",
            "\u001b[?25hRequirement already satisfied: wheel>=0.26 in /usr/local/lib/python3.7/dist-packages (from tensorflow==1.13.1) (0.37.1)\n",
            "Requirement already satisfied: absl-py>=0.1.6 in /usr/local/lib/python3.7/dist-packages (from tensorflow==1.13.1) (1.0.0)\n",
            "Requirement already satisfied: grpcio>=1.8.6 in /usr/local/lib/python3.7/dist-packages (from tensorflow==1.13.1) (1.44.0)\n",
            "Collecting keras-applications>=1.0.6\n",
            "  Downloading Keras_Applications-1.0.8-py3-none-any.whl (50 kB)\n",
            "\u001b[K     |████████████████████████████████| 50 kB 7.0 MB/s \n",
            "\u001b[?25hRequirement already satisfied: termcolor>=1.1.0 in /usr/local/lib/python3.7/dist-packages (from tensorflow==1.13.1) (1.1.0)\n",
            "Requirement already satisfied: keras-preprocessing>=1.0.5 in /usr/local/lib/python3.7/dist-packages (from tensorflow==1.13.1) (1.1.2)\n",
            "Requirement already satisfied: numpy>=1.13.3 in /usr/local/lib/python3.7/dist-packages (from tensorflow==1.13.1) (1.21.5)\n",
            "Collecting tensorflow-estimator<1.14.0rc0,>=1.13.0\n",
            "  Downloading tensorflow_estimator-1.13.0-py2.py3-none-any.whl (367 kB)\n",
            "\u001b[K     |████████████████████████████████| 367 kB 55.1 MB/s \n",
            "\u001b[?25hRequirement already satisfied: astor>=0.6.0 in /usr/local/lib/python3.7/dist-packages (from tensorflow==1.13.1) (0.8.1)\n",
            "Requirement already satisfied: gast>=0.2.0 in /usr/local/lib/python3.7/dist-packages (from tensorflow==1.13.1) (0.5.3)\n",
            "Requirement already satisfied: protobuf>=3.6.1 in /usr/local/lib/python3.7/dist-packages (from tensorflow==1.13.1) (3.17.3)\n",
            "Requirement already satisfied: six>=1.10.0 in /usr/local/lib/python3.7/dist-packages (from tensorflow==1.13.1) (1.15.0)\n",
            "Requirement already satisfied: h5py in /usr/local/lib/python3.7/dist-packages (from keras-applications>=1.0.6->tensorflow==1.13.1) (3.1.0)\n",
            "Requirement already satisfied: markdown>=2.6.8 in /usr/local/lib/python3.7/dist-packages (from tensorboard<1.14.0,>=1.13.0->tensorflow==1.13.1) (3.3.6)\n",
            "Requirement already satisfied: werkzeug>=0.11.15 in /usr/local/lib/python3.7/dist-packages (from tensorboard<1.14.0,>=1.13.0->tensorflow==1.13.1) (1.0.1)\n",
            "Requirement already satisfied: importlib-metadata>=4.4 in /usr/local/lib/python3.7/dist-packages (from markdown>=2.6.8->tensorboard<1.14.0,>=1.13.0->tensorflow==1.13.1) (4.11.2)\n",
            "Requirement already satisfied: typing-extensions>=3.6.4 in /usr/local/lib/python3.7/dist-packages (from importlib-metadata>=4.4->markdown>=2.6.8->tensorboard<1.14.0,>=1.13.0->tensorflow==1.13.1) (3.10.0.2)\n",
            "Requirement already satisfied: zipp>=0.5 in /usr/local/lib/python3.7/dist-packages (from importlib-metadata>=4.4->markdown>=2.6.8->tensorboard<1.14.0,>=1.13.0->tensorflow==1.13.1) (3.7.0)\n",
            "Collecting mock>=2.0.0\n",
            "  Downloading mock-4.0.3-py3-none-any.whl (28 kB)\n",
            "Requirement already satisfied: cached-property in /usr/local/lib/python3.7/dist-packages (from h5py->keras-applications>=1.0.6->tensorflow==1.13.1) (1.5.2)\n",
            "Installing collected packages: mock, tensorflow-estimator, tensorboard, keras-applications, tensorflow\n",
            "  Attempting uninstall: tensorflow-estimator\n",
            "    Found existing installation: tensorflow-estimator 2.8.0\n",
            "    Uninstalling tensorflow-estimator-2.8.0:\n",
            "      Successfully uninstalled tensorflow-estimator-2.8.0\n",
            "  Attempting uninstall: tensorboard\n",
            "    Found existing installation: tensorboard 2.8.0\n",
            "    Uninstalling tensorboard-2.8.0:\n",
            "      Successfully uninstalled tensorboard-2.8.0\n",
            "  Attempting uninstall: tensorflow\n",
            "    Found existing installation: tensorflow 2.8.0\n",
            "    Uninstalling tensorflow-2.8.0:\n",
            "      Successfully uninstalled tensorflow-2.8.0\n",
            "\u001b[31mERROR: pip's dependency resolver does not currently take into account all the packages that are installed. This behaviour is the source of the following dependency conflicts.\n",
            "kapre 0.3.7 requires tensorflow>=2.0.0, but you have tensorflow 1.13.1 which is incompatible.\u001b[0m\n",
            "Successfully installed keras-applications-1.0.8 mock-4.0.3 tensorboard-1.13.1 tensorflow-1.13.1 tensorflow-estimator-1.13.0\n",
            "Collecting folktables\n",
            "  Downloading folktables-0.0.11.tar.gz (10 kB)\n",
            "Requirement already satisfied: numpy in /usr/local/lib/python3.7/dist-packages (from folktables) (1.21.5)\n",
            "Requirement already satisfied: pandas in /usr/local/lib/python3.7/dist-packages (from folktables) (1.3.5)\n",
            "Requirement already satisfied: requests in /usr/local/lib/python3.7/dist-packages (from folktables) (2.23.0)\n",
            "Requirement already satisfied: sklearn in /usr/local/lib/python3.7/dist-packages (from folktables) (0.0)\n",
            "Requirement already satisfied: pytz>=2017.3 in /usr/local/lib/python3.7/dist-packages (from pandas->folktables) (2018.9)\n",
            "Requirement already satisfied: python-dateutil>=2.7.3 in /usr/local/lib/python3.7/dist-packages (from pandas->folktables) (2.8.2)\n",
            "Requirement already satisfied: six>=1.5 in /usr/local/lib/python3.7/dist-packages (from python-dateutil>=2.7.3->pandas->folktables) (1.15.0)\n",
            "Requirement already satisfied: urllib3!=1.25.0,!=1.25.1,<1.26,>=1.21.1 in /usr/local/lib/python3.7/dist-packages (from requests->folktables) (1.24.3)\n",
            "Requirement already satisfied: certifi>=2017.4.17 in /usr/local/lib/python3.7/dist-packages (from requests->folktables) (2021.10.8)\n",
            "Requirement already satisfied: chardet<4,>=3.0.2 in /usr/local/lib/python3.7/dist-packages (from requests->folktables) (3.0.4)\n",
            "Requirement already satisfied: idna<3,>=2.5 in /usr/local/lib/python3.7/dist-packages (from requests->folktables) (2.10)\n",
            "Requirement already satisfied: scikit-learn in /usr/local/lib/python3.7/dist-packages (from sklearn->folktables) (1.0.2)\n",
            "Requirement already satisfied: scipy>=1.1.0 in /usr/local/lib/python3.7/dist-packages (from scikit-learn->sklearn->folktables) (1.4.1)\n",
            "Requirement already satisfied: joblib>=0.11 in /usr/local/lib/python3.7/dist-packages (from scikit-learn->sklearn->folktables) (1.1.0)\n",
            "Requirement already satisfied: threadpoolctl>=2.0.0 in /usr/local/lib/python3.7/dist-packages (from scikit-learn->sklearn->folktables) (3.1.0)\n",
            "Building wheels for collected packages: folktables\n",
            "  Building wheel for folktables (setup.py) ... \u001b[?25l\u001b[?25hdone\n",
            "  Created wheel for folktables: filename=folktables-0.0.11-py3-none-any.whl size=6779 sha256=5f52ffd91dd9f43d62ee6d5cc57bc9671ff03e04b650b164089796786aeab484\n",
            "  Stored in directory: /root/.cache/pip/wheels/bd/63/b8/24d3f5d2c70002c68c1fe8e78e1de20fcbcb7a2ef3f56147b7\n",
            "Successfully built folktables\n",
            "Installing collected packages: folktables\n",
            "Successfully installed folktables-0.0.11\n"
          ]
        }
      ]
    },
    {
      "cell_type": "code",
      "metadata": {
        "id": "-BAY1cNGuxfk",
        "colab": {
          "base_uri": "https://localhost:8080/"
        },
        "outputId": "0db62532-754d-4b4a-8bf5-bf3f1fd2a20d"
      },
      "source": [
        "import random\n",
        "random.seed(6)\n",
        "\n",
        "import sys\n",
        "import warnings\n",
        "\n",
        "import numpy as np\n",
        "import pandas as pd\n",
        "import tensorflow as tf\n",
        "import json\n",
        "import time \n",
        "from tqdm import tqdm\n",
        "\n",
        "import matplotlib.pyplot as plt \n",
        "import seaborn as sns\n",
        "\n",
        "from folktables import ACSDataSource, ACSEmployment, ACSIncome, ACSPublicCoverage, ACSTravelTime\n",
        "from superquail.data.acs_helper import ACSData\n",
        "\n",
        "from sklearn.linear_model import LogisticRegression\n",
        "from sklearn.metrics import accuracy_score, roc_auc_score\n",
        "from sklearn.ensemble import RandomForestClassifier\n",
        "from sklearn.model_selection import RandomizedSearchCV\n",
        "from sklearn.preprocessing import MinMaxScaler\n",
        "\n",
        "from aif360.datasets import BinaryLabelDataset, StandardDataset, Dataset\n",
        "from aif360.algorithms.preprocessing import DisparateImpactRemover\n",
        "from aif360.algorithms.inprocessing import PrejudiceRemover\n",
        "from aif360.algorithms.postprocessing import CalibratedEqOddsPostprocessing, RejectOptionClassification\n",
        "from aif360.metrics import BinaryLabelDatasetMetric, ClassificationMetric\n",
        "from aif360.metrics import BinaryLabelDatasetMetric\n",
        "\n",
        "import BlackBoxAuditing\n",
        "%matplotlib inline"
      ],
      "execution_count": 2,
      "outputs": [
        {
          "output_type": "stream",
          "name": "stderr",
          "text": [
            "/usr/local/lib/python3.7/dist-packages/tensorflow/python/framework/dtypes.py:526: FutureWarning: Passing (type, 1) or '1type' as a synonym of type is deprecated; in a future version of numpy, it will be understood as (type, (1,)) / '(1,)type'.\n",
            "  _np_qint8 = np.dtype([(\"qint8\", np.int8, 1)])\n",
            "/usr/local/lib/python3.7/dist-packages/tensorflow/python/framework/dtypes.py:527: FutureWarning: Passing (type, 1) or '1type' as a synonym of type is deprecated; in a future version of numpy, it will be understood as (type, (1,)) / '(1,)type'.\n",
            "  _np_quint8 = np.dtype([(\"quint8\", np.uint8, 1)])\n",
            "/usr/local/lib/python3.7/dist-packages/tensorflow/python/framework/dtypes.py:528: FutureWarning: Passing (type, 1) or '1type' as a synonym of type is deprecated; in a future version of numpy, it will be understood as (type, (1,)) / '(1,)type'.\n",
            "  _np_qint16 = np.dtype([(\"qint16\", np.int16, 1)])\n",
            "/usr/local/lib/python3.7/dist-packages/tensorflow/python/framework/dtypes.py:529: FutureWarning: Passing (type, 1) or '1type' as a synonym of type is deprecated; in a future version of numpy, it will be understood as (type, (1,)) / '(1,)type'.\n",
            "  _np_quint16 = np.dtype([(\"quint16\", np.uint16, 1)])\n",
            "/usr/local/lib/python3.7/dist-packages/tensorflow/python/framework/dtypes.py:530: FutureWarning: Passing (type, 1) or '1type' as a synonym of type is deprecated; in a future version of numpy, it will be understood as (type, (1,)) / '(1,)type'.\n",
            "  _np_qint32 = np.dtype([(\"qint32\", np.int32, 1)])\n",
            "/usr/local/lib/python3.7/dist-packages/tensorflow/python/framework/dtypes.py:535: FutureWarning: Passing (type, 1) or '1type' as a synonym of type is deprecated; in a future version of numpy, it will be understood as (type, (1,)) / '(1,)type'.\n",
            "  np_resource = np.dtype([(\"resource\", np.ubyte, 1)])\n",
            "WARNING:root:No module named 'numba.decorators': LFR will be unavailable. To install, run:\n",
            "pip install 'aif360[LFR]'\n"
          ]
        }
      ]
    },
    {
      "cell_type": "markdown",
      "metadata": {
        "id": "FW83Vu3KvTQB"
      },
      "source": [
        "# Problem 2\n",
        "### **Load and split data** "
      ]
    },
    {
      "cell_type": "markdown",
      "metadata": {
        "id": "NpySw57tBKEu"
      },
      "source": [
        "#### Load Folktables dataset and set the protected attribute, drop the other protected attribute race\n"
      ]
    },
    {
      "cell_type": "markdown",
      "source": [
        "We have included code to read in the folktables dataset. The Folktables dataset is taken from US Census Data and is built to solve a few simple prediction tasks. The sample we pull is data from 2018 in California. The column names are described in the table below. Note that certain categorical variables have been mapped to integer values, which we will keep as is for the following analyses.\n",
        "\n",
        "For more information on the this dataset, please see the following paper:\n",
        "https://eaamo2021.eaamo.org/accepted/acceptednonarchival/EAMO21_paper_16.pdf"
      ],
      "metadata": {
        "id": "UH30OASO5pf3"
      }
    },
    {
      "cell_type": "markdown",
      "source": [
        "| Column Name | Feature | Description/Notes |\n",
        "| --- | ----------- | --- |\n",
        "| PINCP | Total person’s income | (Target) 1 if >= $50k, 0 if less |\n",
        "| SEX | Sex | (Sensitive Attribute) Male=1, Female=2 |\n",
        "| RAC1P | Race | Dropped from this analysis to focus on one sensitive attribute |\n",
        "| AGEP | Age | Ranges from 0-99 |\n",
        "| COW | Class of Worker | Ranges 1-9, see paper for description |\n",
        "| SCHL | Education Level | Ranges 1-24, see paper for description |\n",
        "| MAR | Marital Status | Ranges 1-5, see paper for description |\n",
        "| OCCP | Occupation | Codes taken from Public Use Microdata Sample (PUMS) from the US Census, see paper |\n",
        "| POBP | Place of Birth | Codes taken from Public Use Microdata Sample (PUMS) from the US Census, see paper |\n",
        "| RELP | Relationship | Relationship of individual to person who responded to the Census taker. Ranges 0-17, see paper for description |\n",
        "| WKHP | Hours worked per week | Ranges from 0-99, averaged over previous year |"
      ],
      "metadata": {
        "id": "ErJSui-veHGd"
      }
    },
    {
      "cell_type": "code",
      "source": [
        "np.random.seed(13)\n",
        "protected_attr = 'SEX' #set sex as the protected attribute\n",
        "target = 'PINCP' #personal income as the target (1=(>50k))\n",
        "\n",
        "#read in the folktables dataset \n",
        "full_df, features_df, target_df, groups_df = ACSData().return_acs_data_scenario(scenario=\"ACSIncome\", subsample=70000)\n",
        "full_df = full_df.drop(columns='RAC1P') #drop race -- another protected attribute from our dataset\n",
        "\n",
        "print(full_df.shape)\n",
        "full_df.head()"
      ],
      "metadata": {
        "colab": {
          "base_uri": "https://localhost:8080/",
          "height": 241
        },
        "id": "JKV2cQ_Q3IqF",
        "outputId": "827c72bb-c6be-4174-9b83-d3f507aafe38"
      },
      "execution_count": 3,
      "outputs": [
        {
          "output_type": "stream",
          "name": "stdout",
          "text": [
            "Downloading data for 2018 1-Year person survey for CA...\n",
            "(70000, 10)\n"
          ]
        },
        {
          "output_type": "execute_result",
          "data": {
            "text/html": [
              "\n",
              "  <div id=\"df-476e6ce5-e208-4165-9fdb-1ed75672adf0\">\n",
              "    <div class=\"colab-df-container\">\n",
              "      <div>\n",
              "<style scoped>\n",
              "    .dataframe tbody tr th:only-of-type {\n",
              "        vertical-align: middle;\n",
              "    }\n",
              "\n",
              "    .dataframe tbody tr th {\n",
              "        vertical-align: top;\n",
              "    }\n",
              "\n",
              "    .dataframe thead th {\n",
              "        text-align: right;\n",
              "    }\n",
              "</style>\n",
              "<table border=\"1\" class=\"dataframe\">\n",
              "  <thead>\n",
              "    <tr style=\"text-align: right;\">\n",
              "      <th></th>\n",
              "      <th>AGEP</th>\n",
              "      <th>COW</th>\n",
              "      <th>SCHL</th>\n",
              "      <th>MAR</th>\n",
              "      <th>OCCP</th>\n",
              "      <th>POBP</th>\n",
              "      <th>RELP</th>\n",
              "      <th>WKHP</th>\n",
              "      <th>SEX</th>\n",
              "      <th>PINCP</th>\n",
              "    </tr>\n",
              "  </thead>\n",
              "  <tbody>\n",
              "    <tr>\n",
              "      <th>0</th>\n",
              "      <td>44.0</td>\n",
              "      <td>1.0</td>\n",
              "      <td>1.0</td>\n",
              "      <td>1.0</td>\n",
              "      <td>4220.0</td>\n",
              "      <td>6.0</td>\n",
              "      <td>10.0</td>\n",
              "      <td>40.0</td>\n",
              "      <td>1.0</td>\n",
              "      <td>0.0</td>\n",
              "    </tr>\n",
              "    <tr>\n",
              "      <th>1</th>\n",
              "      <td>66.0</td>\n",
              "      <td>2.0</td>\n",
              "      <td>20.0</td>\n",
              "      <td>2.0</td>\n",
              "      <td>4720.0</td>\n",
              "      <td>42.0</td>\n",
              "      <td>0.0</td>\n",
              "      <td>32.0</td>\n",
              "      <td>2.0</td>\n",
              "      <td>0.0</td>\n",
              "    </tr>\n",
              "    <tr>\n",
              "      <th>2</th>\n",
              "      <td>72.0</td>\n",
              "      <td>6.0</td>\n",
              "      <td>18.0</td>\n",
              "      <td>1.0</td>\n",
              "      <td>10.0</td>\n",
              "      <td>6.0</td>\n",
              "      <td>1.0</td>\n",
              "      <td>8.0</td>\n",
              "      <td>2.0</td>\n",
              "      <td>1.0</td>\n",
              "    </tr>\n",
              "    <tr>\n",
              "      <th>3</th>\n",
              "      <td>53.0</td>\n",
              "      <td>1.0</td>\n",
              "      <td>21.0</td>\n",
              "      <td>1.0</td>\n",
              "      <td>1460.0</td>\n",
              "      <td>457.0</td>\n",
              "      <td>0.0</td>\n",
              "      <td>40.0</td>\n",
              "      <td>1.0</td>\n",
              "      <td>1.0</td>\n",
              "    </tr>\n",
              "    <tr>\n",
              "      <th>4</th>\n",
              "      <td>55.0</td>\n",
              "      <td>1.0</td>\n",
              "      <td>16.0</td>\n",
              "      <td>1.0</td>\n",
              "      <td>220.0</td>\n",
              "      <td>6.0</td>\n",
              "      <td>1.0</td>\n",
              "      <td>40.0</td>\n",
              "      <td>1.0</td>\n",
              "      <td>0.0</td>\n",
              "    </tr>\n",
              "  </tbody>\n",
              "</table>\n",
              "</div>\n",
              "      <button class=\"colab-df-convert\" onclick=\"convertToInteractive('df-476e6ce5-e208-4165-9fdb-1ed75672adf0')\"\n",
              "              title=\"Convert this dataframe to an interactive table.\"\n",
              "              style=\"display:none;\">\n",
              "        \n",
              "  <svg xmlns=\"http://www.w3.org/2000/svg\" height=\"24px\"viewBox=\"0 0 24 24\"\n",
              "       width=\"24px\">\n",
              "    <path d=\"M0 0h24v24H0V0z\" fill=\"none\"/>\n",
              "    <path d=\"M18.56 5.44l.94 2.06.94-2.06 2.06-.94-2.06-.94-.94-2.06-.94 2.06-2.06.94zm-11 1L8.5 8.5l.94-2.06 2.06-.94-2.06-.94L8.5 2.5l-.94 2.06-2.06.94zm10 10l.94 2.06.94-2.06 2.06-.94-2.06-.94-.94-2.06-.94 2.06-2.06.94z\"/><path d=\"M17.41 7.96l-1.37-1.37c-.4-.4-.92-.59-1.43-.59-.52 0-1.04.2-1.43.59L10.3 9.45l-7.72 7.72c-.78.78-.78 2.05 0 2.83L4 21.41c.39.39.9.59 1.41.59.51 0 1.02-.2 1.41-.59l7.78-7.78 2.81-2.81c.8-.78.8-2.07 0-2.86zM5.41 20L4 18.59l7.72-7.72 1.47 1.35L5.41 20z\"/>\n",
              "  </svg>\n",
              "      </button>\n",
              "      \n",
              "  <style>\n",
              "    .colab-df-container {\n",
              "      display:flex;\n",
              "      flex-wrap:wrap;\n",
              "      gap: 12px;\n",
              "    }\n",
              "\n",
              "    .colab-df-convert {\n",
              "      background-color: #E8F0FE;\n",
              "      border: none;\n",
              "      border-radius: 50%;\n",
              "      cursor: pointer;\n",
              "      display: none;\n",
              "      fill: #1967D2;\n",
              "      height: 32px;\n",
              "      padding: 0 0 0 0;\n",
              "      width: 32px;\n",
              "    }\n",
              "\n",
              "    .colab-df-convert:hover {\n",
              "      background-color: #E2EBFA;\n",
              "      box-shadow: 0px 1px 2px rgba(60, 64, 67, 0.3), 0px 1px 3px 1px rgba(60, 64, 67, 0.15);\n",
              "      fill: #174EA6;\n",
              "    }\n",
              "\n",
              "    [theme=dark] .colab-df-convert {\n",
              "      background-color: #3B4455;\n",
              "      fill: #D2E3FC;\n",
              "    }\n",
              "\n",
              "    [theme=dark] .colab-df-convert:hover {\n",
              "      background-color: #434B5C;\n",
              "      box-shadow: 0px 1px 3px 1px rgba(0, 0, 0, 0.15);\n",
              "      filter: drop-shadow(0px 1px 2px rgba(0, 0, 0, 0.3));\n",
              "      fill: #FFFFFF;\n",
              "    }\n",
              "  </style>\n",
              "\n",
              "      <script>\n",
              "        const buttonEl =\n",
              "          document.querySelector('#df-476e6ce5-e208-4165-9fdb-1ed75672adf0 button.colab-df-convert');\n",
              "        buttonEl.style.display =\n",
              "          google.colab.kernel.accessAllowed ? 'block' : 'none';\n",
              "\n",
              "        async function convertToInteractive(key) {\n",
              "          const element = document.querySelector('#df-476e6ce5-e208-4165-9fdb-1ed75672adf0');\n",
              "          const dataTable =\n",
              "            await google.colab.kernel.invokeFunction('convertToInteractive',\n",
              "                                                     [key], {});\n",
              "          if (!dataTable) return;\n",
              "\n",
              "          const docLinkHtml = 'Like what you see? Visit the ' +\n",
              "            '<a target=\"_blank\" href=https://colab.research.google.com/notebooks/data_table.ipynb>data table notebook</a>'\n",
              "            + ' to learn more about interactive tables.';\n",
              "          element.innerHTML = '';\n",
              "          dataTable['output_type'] = 'display_data';\n",
              "          await google.colab.output.renderOutput(dataTable, element);\n",
              "          const docLink = document.createElement('div');\n",
              "          docLink.innerHTML = docLinkHtml;\n",
              "          element.appendChild(docLink);\n",
              "        }\n",
              "      </script>\n",
              "    </div>\n",
              "  </div>\n",
              "  "
            ],
            "text/plain": [
              "   AGEP  COW  SCHL  MAR    OCCP   POBP  RELP  WKHP  SEX  PINCP\n",
              "0  44.0  1.0   1.0  1.0  4220.0    6.0  10.0  40.0  1.0    0.0\n",
              "1  66.0  2.0  20.0  2.0  4720.0   42.0   0.0  32.0  2.0    0.0\n",
              "2  72.0  6.0  18.0  1.0    10.0    6.0   1.0   8.0  2.0    1.0\n",
              "3  53.0  1.0  21.0  1.0  1460.0  457.0   0.0  40.0  1.0    1.0\n",
              "4  55.0  1.0  16.0  1.0   220.0    6.0   1.0  40.0  1.0    0.0"
            ]
          },
          "metadata": {},
          "execution_count": 3
        }
      ]
    },
    {
      "cell_type": "code",
      "source": [
        "# convert this dataframe into an aif360 dataset\n",
        "dataset_orig = BinaryLabelDataset(\n",
        "    favorable_label=1,\n",
        "    unfavorable_label=0,\n",
        "    df=full_df,\n",
        "    label_names=[target],\n",
        "    protected_attribute_names=[protected_attr])\n",
        "privileged_groups = [{protected_attr: 1}] \n",
        "unprivileged_groups = [{protected_attr: 2}]"
      ],
      "metadata": {
        "id": "cEZljEsG4G1j"
      },
      "execution_count": 4,
      "outputs": []
    },
    {
      "cell_type": "markdown",
      "metadata": {
        "id": "0Fa2JenjzLkx"
      },
      "source": [
        "### Create the train test val split"
      ]
    },
    {
      "cell_type": "code",
      "metadata": {
        "id": "TCy6GcbgBycv",
        "colab": {
          "base_uri": "https://localhost:8080/"
        },
        "outputId": "81acbf70-90eb-4453-e616-040ea9194da9"
      },
      "source": [
        "#YOUR CODE HERE\n",
        "\n",
        "# Split original data into train and test data (0.8:0.2)\n",
        "train_orig, test_orig = dataset_orig.split([0.8], shuffle=True)\n",
        "# Split training data in to training and validation data for hyperparameter tuning (0.2:0.1)\n",
        "train_orig, val_orig = train_orig.split([0.875], shuffle=True)\n",
        "\n",
        "# Convert to dataframes\n",
        "train_orig_df, _ = train_orig.convert_to_dataframe()\n",
        "val_orig_df, _ = val_orig.convert_to_dataframe()\n",
        "test_orig_df, _ = test_orig.convert_to_dataframe()\n",
        "\n",
        "print(\"Train set: \", train_orig_df.shape)\n",
        "print(\"Val set: \", val_orig_df.shape)\n",
        "print(\"Test set: \", test_orig_df.shape)"
      ],
      "execution_count": 5,
      "outputs": [
        {
          "output_type": "stream",
          "name": "stdout",
          "text": [
            "Train set:  (49000, 10)\n",
            "Val set:  (7000, 10)\n",
            "Test set:  (14000, 10)\n"
          ]
        }
      ]
    },
    {
      "cell_type": "markdown",
      "metadata": {
        "id": "FaQZc9mkDBQc"
      },
      "source": [
        "# Problem 2, Part (a) \n",
        "### **Train a baseline Random Forest (RF) model and report metrics**"
      ]
    },
    {
      "cell_type": "markdown",
      "metadata": {
        "id": "J_9U8nMU3pg0"
      },
      "source": [
        "### Train a random forest model - Baseline"
      ]
    },
    {
      "cell_type": "code",
      "metadata": {
        "id": "Bo149tbl3n_N"
      },
      "source": [
        "#YOUR CODE HERE\n",
        "\n",
        "x_train = train_orig_df.drop([target], axis=1)\n",
        "y_train = train_orig_df.PINCP\n",
        "\n",
        "# Baseline random forest model\n",
        "initial_rf = RandomForestClassifier(random_state=10)\n",
        "    \n",
        "# Fit the model using the training data\n",
        "initial_rf = initial_rf.fit(x_train, y_train, sample_weight=None)"
      ],
      "execution_count": 6,
      "outputs": []
    },
    {
      "cell_type": "markdown",
      "metadata": {
        "id": "Ci-ClRL14Efm"
      },
      "source": [
        "### Calculate Metrics"
      ]
    },
    {
      "cell_type": "code",
      "source": [
        "# Evaluate the accuracy and AUC\n",
        "\n",
        "def evaluate(model, X, y_true):\n",
        "    '''Calculates the AUC and accuracy for a trained random forest classifier model'''\n",
        "    \n",
        "    # Calculate predicted values\n",
        "    y_pred = model.predict_proba(X)\n",
        "    # This returns a tuple for each observation containing the probability of being in each class.\n",
        "    # Since we're doing binary classification, all we need to know is the probability that the outcome = 1 (high income)\n",
        "    y_pred = [row[1] for row in y_pred] # This pulls the predicted probability that y = 1 for each observation\n",
        "\n",
        "    # Calculate accuracy\n",
        "    accuracy = accuracy_score(y_true, [pred_prob >= 0.5 for pred_prob in y_pred])\n",
        "\n",
        "    # Calculate AUC\n",
        "    auc = roc_auc_score(y_true, y_pred)\n",
        "    \n",
        "    return accuracy, auc"
      ],
      "metadata": {
        "id": "7FN4JsgBfH7V"
      },
      "execution_count": 7,
      "outputs": []
    },
    {
      "cell_type": "code",
      "metadata": {
        "id": "MAAkD4VK37eg",
        "colab": {
          "base_uri": "https://localhost:8080/"
        },
        "outputId": "122e92c9-c144-4017-81c3-1238f5ff5d29"
      },
      "source": [
        "#YOUR CODE HERE\n",
        "\n",
        "x_test = test_orig_df.drop([target], axis=1)\n",
        "y_test = test_orig_df.PINCP\n",
        "\n",
        "# Overall accuracy and AUC\n",
        "accuracy, auc = evaluate(initial_rf, x_test, y_test)\n",
        "print(\"Overall accuracy and AUC\")\n",
        "print(\"Accuracy: \", accuracy)\n",
        "print(\"AUC: \", auc)\n",
        "\n",
        "test_privileged = test_orig_df[test_orig_df['SEX'] == 1.0]\n",
        "x_privileged = test_privileged.drop([target], axis=1)\n",
        "y_privileged = test_privileged.PINCP\n",
        "\n",
        "# Accuracy for the privileged group\n",
        "accuracy, auc = evaluate(initial_rf, x_privileged, y_privileged)\n",
        "print(\"\\nAccuracy for the privileged group\")\n",
        "print(\"Accuracy: \", accuracy)\n",
        "\n",
        "test_unprivileged = test_orig_df[test_orig_df['SEX'] == 2.0]\n",
        "x_unprivileged = test_unprivileged.drop([target], axis=1)\n",
        "y_unprivileged = test_unprivileged.PINCP\n",
        "\n",
        "# Accuracy for the unprivileged group\n",
        "accuracy, auc = evaluate(initial_rf, x_unprivileged, y_unprivileged)\n",
        "print(\"\\nAccuracy for the unprivileged group\")\n",
        "print(\"Accuracy: \", accuracy)"
      ],
      "execution_count": 8,
      "outputs": [
        {
          "output_type": "stream",
          "name": "stdout",
          "text": [
            "Overall accuracy and AUC\n",
            "Accuracy:  0.809\n",
            "AUC:  0.8870013710914366\n",
            "\n",
            "Accuracy for the privileged group\n",
            "Accuracy:  0.8002695417789757\n",
            "\n",
            "Accuracy for the unprivileged group\n",
            "Accuracy:  0.8188449848024316\n"
          ]
        }
      ]
    },
    {
      "cell_type": "code",
      "source": [
        "# Calculate the disparate impact\n",
        "\n",
        "metric_test = BinaryLabelDatasetMetric(\n",
        "     test_orig, \n",
        "     unprivileged_groups=unprivileged_groups,\n",
        "     privileged_groups=privileged_groups\n",
        "  )\n",
        "print(\"Disparate Impact = %f\" % metric_test.disparate_impact())"
      ],
      "metadata": {
        "colab": {
          "base_uri": "https://localhost:8080/"
        },
        "id": "IY8LalWIfbpJ",
        "outputId": "c681db6c-dd63-4067-8c4e-95ebafb83827"
      },
      "execution_count": 9,
      "outputs": [
        {
          "output_type": "stream",
          "name": "stdout",
          "text": [
            "Disparate Impact = 0.763941\n"
          ]
        }
      ]
    },
    {
      "cell_type": "code",
      "source": [
        "# Calculate the false positive rate difference\n",
        "\n",
        "test_preds_df = test_orig_df.copy()\n",
        "test_preds_df['PINCP'] = initial_rf.predict(x_test)\n",
        "\n",
        "orig_aif360 = StandardDataset(test_orig_df, label_name='PINCP', protected_attribute_names=['SEX'], \n",
        "                privileged_classes=[[1]], favorable_classes=[1])\n",
        "preds_aif360 = StandardDataset(test_preds_df, label_name='PINCP', protected_attribute_names=['SEX'], \n",
        "                privileged_classes=[[1]], favorable_classes=[1])\n",
        "\n",
        "orig_vs_preds_metrics = ClassificationMetric(orig_aif360, preds_aif360,\n",
        "                                                   unprivileged_groups=unprivileged_groups,\n",
        "                                                   privileged_groups=privileged_groups)\n",
        "\n",
        "print(\"False positive rate for the priviledged group = %f\" % orig_vs_preds_metrics.false_positive_rate(privileged=True))\n",
        "print(\"False positive rate for the unpriviledged group = %f\" % orig_vs_preds_metrics.false_positive_rate(privileged=False))\n",
        "print(\"False positive rate difference = %f\" % orig_vs_preds_metrics.false_positive_rate_difference())"
      ],
      "metadata": {
        "colab": {
          "base_uri": "https://localhost:8080/"
        },
        "id": "oBnyYz79gRN2",
        "outputId": "8278d51a-706b-4f66-df70-0af63ffe1d98"
      },
      "execution_count": 10,
      "outputs": [
        {
          "output_type": "stream",
          "name": "stdout",
          "text": [
            "False positive rate for the priviledged group = 0.185167\n",
            "False positive rate for the unpriviledged group = 0.129199\n",
            "False positive rate difference = -0.055968\n"
          ]
        }
      ]
    },
    {
      "cell_type": "markdown",
      "metadata": {
        "id": "9qZgybMrFsKB"
      },
      "source": [
        "# Problem 2, Part (b)\n",
        "### **Hyperparameter tuning of baseline RF model**"
      ]
    },
    {
      "cell_type": "code",
      "metadata": {
        "id": "a5bJ5wamFt7f"
      },
      "source": [
        "# for boxplots\n",
        "def plot_init_v_tuned_box(init_metrics, tuned_metrics, metric_name):\n",
        "  '''Creates a bar graph comparing init_metrics to tuned_metrics'''\n",
        "\n",
        "  # Make some x values\n",
        "  x_init = list(range(len(init_metrics)))\n",
        "  x_tuned = [x + 0.35 for x in x_init]\n",
        "\n",
        "  # Plot the metrics\n",
        "  plt.boxplot([init_metrics, tuned_metrics], labels=['Initial Model', 'Tuned Model'])\n",
        "\n",
        "  # Create labels, etc. \n",
        "  plt.ylabel(metric_name)\n",
        "  plt.legend()\n",
        "  plt.show()"
      ],
      "execution_count": 11,
      "outputs": []
    },
    {
      "cell_type": "markdown",
      "metadata": {
        "id": "yokMPYTHKB7A"
      },
      "source": [
        "### Define a program to conduct tune the Random Forest\n",
        "Optimize the AUC. You should try the following hyperparameters: <br>\n",
        "max_depth=[1, 5, 10] <br>\n",
        "n_estimators=[1, 5, 10, 15, 20]"
      ]
    },
    {
      "cell_type": "code",
      "source": [
        "# Random forest hyperparameter tuning\n",
        "\n",
        "def tune_random_forest(train_df, val_df, max_depth, n_estimators, verbose=True):\n",
        "    '''Tunes random forest models over the hyperparameters max_depth and n_estimators\n",
        "       to maximize the accuracy'''\n",
        "    # Pre-process the training and validation data\n",
        "    x_train = train_df.drop([target], axis=1)\n",
        "    y_train = train_df.PINCP.replace({2:0}) \n",
        "    x_val = val_df.drop([target], axis=1)\n",
        "    y_val = val_df.PINCP.replace({2:0})     \n",
        "\n",
        "    # Create empty lists where we will store the results of hyperparameter tuning \n",
        "    parameters = []\n",
        "    models = []\n",
        "    val_acc = []\n",
        "    \n",
        "    # Loop through the hyperparameters of interest\n",
        "\n",
        "    for depth in max_depth:\n",
        "      for tree in n_estimators:\n",
        "            # Train the random forest model with the given hyperparameters\n",
        "            rf = RandomForestClassifier(max_depth=depth, n_estimators=tree)\n",
        "\n",
        "            # Fit the model using the training data\n",
        "            rf = rf.fit(x_train, y_train, sample_weight=None)\n",
        "\n",
        "            # Get the evalution metrics on the validation set\n",
        "            accuracy, auc = evaluate(rf, x_val, y_val)\n",
        "\n",
        "            # Store the results\n",
        "            parameters.append({'max_depth': depth, 'n_estimators': tree})\n",
        "            models.append(rf)\n",
        "            val_acc.append(accuracy)\n",
        "\n",
        "            # Print the results\n",
        "            if verbose:\n",
        "                print(\"\\nParmeters: \\tmax_depth={} \\tn_estimators={}\".format(depth, tree))\n",
        "                print(\"Validtion Accuracy: {}\".format(accuracy))            \n",
        "    \n",
        "    # Determine the best model -- that is, the one with the AUC\n",
        "    best_model_index = np.argmax(val_acc)\n",
        "    best_model = models[best_model_index]\n",
        "    \n",
        "    print(\"\\nBest model parameters: \", parameters[best_model_index])\n",
        "    print(\"Best model accuracy: \", val_acc[best_model_index])\n",
        "    \n",
        "    # Return best model\n",
        "    return best_model, parameters, models, val_acc"
      ],
      "metadata": {
        "id": "DuTDX8cahr5V"
      },
      "execution_count": 12,
      "outputs": []
    },
    {
      "cell_type": "code",
      "metadata": {
        "id": "7TpjRCHpClL4",
        "colab": {
          "base_uri": "https://localhost:8080/"
        },
        "outputId": "d10feeec-79a8-4e6e-ee6f-7941de0900d3"
      },
      "source": [
        "#YOUR CODE HERE\n",
        "\n",
        "best_lr, parameters, models, val_acc = tune_random_forest(train_orig_df, val_orig_df, max_depth=[1, 5, 10], n_estimators=[1, 5, 10, 15, 20])"
      ],
      "execution_count": 13,
      "outputs": [
        {
          "output_type": "stream",
          "name": "stdout",
          "text": [
            "\n",
            "Parmeters: \tmax_depth=1 \tn_estimators=1\n",
            "Validtion Accuracy: 0.6224285714285714\n",
            "\n",
            "Parmeters: \tmax_depth=1 \tn_estimators=5\n",
            "Validtion Accuracy: 0.7282857142857143\n",
            "\n",
            "Parmeters: \tmax_depth=1 \tn_estimators=10\n",
            "Validtion Accuracy: 0.728\n",
            "\n",
            "Parmeters: \tmax_depth=1 \tn_estimators=15\n",
            "Validtion Accuracy: 0.7407142857142858\n",
            "\n",
            "Parmeters: \tmax_depth=1 \tn_estimators=20\n",
            "Validtion Accuracy: 0.7501428571428571\n",
            "\n",
            "Parmeters: \tmax_depth=5 \tn_estimators=1\n",
            "Validtion Accuracy: 0.7568571428571429\n",
            "\n",
            "Parmeters: \tmax_depth=5 \tn_estimators=5\n",
            "Validtion Accuracy: 0.7928571428571428\n",
            "\n",
            "Parmeters: \tmax_depth=5 \tn_estimators=10\n",
            "Validtion Accuracy: 0.7932857142857143\n",
            "\n",
            "Parmeters: \tmax_depth=5 \tn_estimators=15\n",
            "Validtion Accuracy: 0.7928571428571428\n",
            "\n",
            "Parmeters: \tmax_depth=5 \tn_estimators=20\n",
            "Validtion Accuracy: 0.7907142857142857\n",
            "\n",
            "Parmeters: \tmax_depth=10 \tn_estimators=1\n",
            "Validtion Accuracy: 0.7895714285714286\n",
            "\n",
            "Parmeters: \tmax_depth=10 \tn_estimators=5\n",
            "Validtion Accuracy: 0.8107142857142857\n",
            "\n",
            "Parmeters: \tmax_depth=10 \tn_estimators=10\n",
            "Validtion Accuracy: 0.8104285714285714\n",
            "\n",
            "Parmeters: \tmax_depth=10 \tn_estimators=15\n",
            "Validtion Accuracy: 0.8128571428571428\n",
            "\n",
            "Parmeters: \tmax_depth=10 \tn_estimators=20\n",
            "Validtion Accuracy: 0.8162857142857143\n",
            "\n",
            "Best model parameters:  {'max_depth': 10, 'n_estimators': 20}\n",
            "Best model accuracy:  0.8162857142857143\n"
          ]
        }
      ]
    },
    {
      "cell_type": "markdown",
      "source": [
        "###Best hyperparameters and accuracy###\n",
        "+ max_depth: 10\n",
        "+ n_estimators: 20\n",
        "+ accuracy: 0.8158571428571428"
      ],
      "metadata": {
        "id": "u27y5WSNkqkX"
      }
    },
    {
      "cell_type": "markdown",
      "metadata": {
        "id": "BmW4nlgDOUKS"
      },
      "source": [
        "### Compare the initial model to the fine-tuned model for 10 train/val/test splits for Random Forest"
      ]
    },
    {
      "cell_type": "code",
      "metadata": {
        "id": "TbGfeNNmOMft",
        "colab": {
          "base_uri": "https://localhost:8080/"
        },
        "outputId": "cac7ab03-019b-468f-d217-f395699e9a4a"
      },
      "source": [
        "#YOUR CODE HERE\n",
        "\n",
        "# Metrics array\n",
        "init_accuracy = []\n",
        "init_acc_priv = []\n",
        "init_acc_unpr = []\n",
        "init_di = []\n",
        "init_fprd = []\n",
        "\n",
        "# 10 iterations of splits\n",
        "for i in range(1,11):\n",
        "    print(\"\\nSplit iteration: \", i)\n",
        "    train_splits, test_splits = dataset_orig.split([0.8], shuffle=True)\n",
        "    train_splits, val_splits = train_splits.split([0.875], shuffle=True)\n",
        "    train_splits_df, _ = train_splits.convert_to_dataframe()\n",
        "    val_splits_df, _ = val_splits.convert_to_dataframe()\n",
        "    test_splits_df, _ = test_splits.convert_to_dataframe()\n",
        "\n",
        "    x_train = train_splits_df.drop([target], axis=1)\n",
        "    y_train = train_splits_df.PINCP\n",
        "    x_test = test_splits_df.drop([target], axis=1)\n",
        "    y_test = test_splits_df.PINCP\n",
        "\n",
        "    temp_rf = RandomForestClassifier()\n",
        "    temp_rf = temp_rf.fit(x_train, y_train, sample_weight=None)\n",
        "\n",
        "    accuracy, _ = evaluate(temp_rf, x_test, y_test)\n",
        "    init_accuracy.append(accuracy)\n",
        "    print(\"Overall accuracy: \", accuracy)\n",
        "\n",
        "    test_priv_splits = test_splits_df[test_splits_df['SEX'] == 1.0]\n",
        "    x_priv_splits = test_priv_splits.drop([target], axis=1)\n",
        "    y_priv_splits = test_priv_splits.PINCP\n",
        "    accuracy, _ = evaluate(temp_rf, x_priv_splits, y_priv_splits)\n",
        "    init_acc_priv.append(accuracy)\n",
        "    print(\"Accuracy for the privileged group: \", accuracy)\n",
        "\n",
        "    test_unpr_splits = test_splits_df[test_splits_df['SEX'] == 2.0]\n",
        "    x_unpr_splits = test_unpr_splits.drop([target], axis=1)\n",
        "    y_unpr_splits = test_unpr_splits.PINCP\n",
        "    accuracy, _ = evaluate(temp_rf, x_unpr_splits, y_unpr_splits)\n",
        "    init_acc_unpr.append(accuracy)\n",
        "    print(\"Accuracy for the unprivileged group\", accuracy)\n",
        "\n",
        "    metric_splits = BinaryLabelDatasetMetric(\n",
        "         test_splits, \n",
        "         unprivileged_groups=unprivileged_groups,\n",
        "         privileged_groups=privileged_groups\n",
        "      )\n",
        "    print(\"Disparate Impact = %f\" % metric_splits.disparate_impact())\n",
        "    init_di.append(metric_splits.disparate_impact())\n",
        "\n",
        "    test_preds_df = test_splits_df.copy()\n",
        "    test_preds_df['PINCP'] = temp_rf.predict(x_test)\n",
        "    orig_aif360 = StandardDataset(test_splits_df, label_name='PINCP', protected_attribute_names=['SEX'], \n",
        "                    privileged_classes=[[1]], favorable_classes=[1])\n",
        "    preds_aif360 = StandardDataset(test_preds_df, label_name='PINCP', protected_attribute_names=['SEX'], \n",
        "                    privileged_classes=[[1]], favorable_classes=[1])\n",
        "    orig_vs_preds_splits_metrics = ClassificationMetric(orig_aif360, preds_aif360,\n",
        "                                                       unprivileged_groups=unprivileged_groups,\n",
        "                                                       privileged_groups=privileged_groups)\n",
        "    print(\"False positive rate difference = %f\" % orig_vs_preds_splits_metrics.false_positive_rate_difference())\n",
        "    init_fprd.append(orig_vs_preds_splits_metrics.false_positive_rate_difference())\n"
      ],
      "execution_count": 14,
      "outputs": [
        {
          "output_type": "stream",
          "name": "stdout",
          "text": [
            "\n",
            "Split iteration:  1\n",
            "Overall accuracy:  0.8067142857142857\n",
            "Accuracy for the privileged group:  0.800983472203251\n",
            "Accuracy for the unprivileged group 0.8129959574786645\n",
            "Disparate Impact = 0.736759\n",
            "False positive rate difference = -0.051261\n",
            "\n",
            "Split iteration:  2\n",
            "Overall accuracy:  0.8069285714285714\n",
            "Accuracy for the privileged group:  0.802745367192862\n",
            "Accuracy for the unprivileged group 0.8114668652271035\n",
            "Disparate Impact = 0.756807\n",
            "False positive rate difference = -0.058049\n",
            "\n",
            "Split iteration:  3\n",
            "Overall accuracy:  0.8042142857142857\n",
            "Accuracy for the privileged group:  0.7980994353394849\n",
            "Accuracy for the unprivileged group 0.8108027897314142\n",
            "Disparate Impact = 0.735963\n",
            "False positive rate difference = -0.056891\n",
            "\n",
            "Split iteration:  4\n",
            "Overall accuracy:  0.8107142857142857\n",
            "Accuracy for the privileged group:  0.8029347229840922\n",
            "Accuracy for the unprivileged group 0.8191711389385808\n",
            "Disparate Impact = 0.727448\n",
            "False positive rate difference = -0.038949\n",
            "\n",
            "Split iteration:  5\n",
            "Overall accuracy:  0.8072142857142857\n",
            "Accuracy for the privileged group:  0.7990189399100694\n",
            "Accuracy for the unprivileged group 0.8162438072361508\n",
            "Disparate Impact = 0.767287\n",
            "False positive rate difference = -0.056850\n",
            "\n",
            "Split iteration:  6\n",
            "Overall accuracy:  0.8032142857142858\n",
            "Accuracy for the privileged group:  0.7992444684295736\n",
            "Accuracy for the unprivileged group 0.8076806314511232\n",
            "Disparate Impact = 0.752669\n",
            "False positive rate difference = -0.047844\n",
            "\n",
            "Split iteration:  7\n",
            "Overall accuracy:  0.808\n",
            "Accuracy for the privileged group:  0.8029423673910109\n",
            "Accuracy for the unprivileged group 0.8136853284782278\n",
            "Disparate Impact = 0.765399\n",
            "False positive rate difference = -0.056246\n",
            "\n",
            "Split iteration:  8\n",
            "Overall accuracy:  0.8084285714285714\n",
            "Accuracy for the privileged group:  0.8041321190702732\n",
            "Accuracy for the unprivileged group 0.8131868131868132\n",
            "Disparate Impact = 0.756720\n",
            "False positive rate difference = -0.049321\n",
            "\n",
            "Split iteration:  9\n",
            "Overall accuracy:  0.8087857142857143\n",
            "Accuracy for the privileged group:  0.8034674251659217\n",
            "Accuracy for the unprivileged group 0.8147196614780112\n",
            "Disparate Impact = 0.756405\n",
            "False positive rate difference = -0.046641\n",
            "\n",
            "Split iteration:  10\n",
            "Overall accuracy:  0.8104285714285714\n",
            "Accuracy for the privileged group:  0.8039083557951483\n",
            "Accuracy for the unprivileged group 0.8177811550151975\n",
            "Disparate Impact = 0.729337\n",
            "False positive rate difference = -0.065645\n"
          ]
        }
      ]
    },
    {
      "cell_type": "code",
      "source": [
        "# Metrics array\n",
        "tuned_accuracy = []\n",
        "tuned_acc_priv = []\n",
        "tuned_acc_unpr = []\n",
        "tuned_di = []\n",
        "tuned_fprd = []\n",
        "\n",
        "# 10 iterations of splits after hyperparameter tuning\n",
        "for i in range(1,11):\n",
        "    print(\"\\nSplit after hyperparameter tuning iteration: \", i)\n",
        "    train_splits, test_splits = dataset_orig.split([0.8], shuffle=True)\n",
        "    train_splits, val_splits = train_splits.split([0.875], shuffle=True)\n",
        "    train_splits_df, _ = train_splits.convert_to_dataframe()\n",
        "    val_splits_df, _ = val_splits.convert_to_dataframe()\n",
        "    test_splits_df, _ = test_splits.convert_to_dataframe()\n",
        "\n",
        "    x_train = train_splits_df.drop([target], axis=1)\n",
        "    y_train = train_splits_df.PINCP\n",
        "    x_test = test_splits_df.drop([target], axis=1)\n",
        "    y_test = test_splits_df.PINCP\n",
        "\n",
        "    temp_rf = RandomForestClassifier(max_depth=10, n_estimators=20)\n",
        "    temp_rf = temp_rf.fit(x_train, y_train, sample_weight=None)\n",
        "\n",
        "    accuracy, _ = evaluate(temp_rf, x_test, y_test)\n",
        "    tuned_accuracy.append(accuracy)\n",
        "    print(\"Overall accuracy: \", accuracy)\n",
        "\n",
        "    test_priv_splits = test_splits_df[test_splits_df['SEX'] == 1.0]\n",
        "    x_priv_splits = test_priv_splits.drop([target], axis=1)\n",
        "    y_priv_splits = test_priv_splits.PINCP\n",
        "    accuracy, _ = evaluate(temp_rf, x_priv_splits, y_priv_splits)\n",
        "    tuned_acc_priv.append(accuracy)\n",
        "    print(\"Accuracy for the privileged group: \", accuracy)\n",
        "\n",
        "    test_unpr_splits = test_splits_df[test_splits_df['SEX'] == 2.0]\n",
        "    x_unpr_splits = test_unpr_splits.drop([target], axis=1)\n",
        "    y_unpr_splits = test_unpr_splits.PINCP\n",
        "    accuracy, _ = evaluate(temp_rf, x_unpr_splits, y_unpr_splits)\n",
        "    tuned_acc_unpr.append(accuracy)\n",
        "    print(\"Accuracy for the unprivileged group\", accuracy)\n",
        "\n",
        "    metric_splits = BinaryLabelDatasetMetric(\n",
        "         test_splits, \n",
        "         unprivileged_groups=unprivileged_groups,\n",
        "         privileged_groups=privileged_groups\n",
        "      )\n",
        "    print(\"Disparate Impact = %f\" % metric_splits.disparate_impact())\n",
        "    tuned_di.append(metric_splits.disparate_impact())\n",
        "\n",
        "    test_preds_df = test_splits_df.copy()\n",
        "    test_preds_df['PINCP'] = temp_rf.predict(x_test)\n",
        "    orig_aif360 = StandardDataset(test_splits_df, label_name='PINCP', protected_attribute_names=['SEX'], \n",
        "                    privileged_classes=[[1]], favorable_classes=[1])\n",
        "    preds_aif360 = StandardDataset(test_preds_df, label_name='PINCP', protected_attribute_names=['SEX'], \n",
        "                    privileged_classes=[[1]], favorable_classes=[1])\n",
        "    orig_vs_preds_splits_metrics = ClassificationMetric(orig_aif360, preds_aif360,\n",
        "                                                       unprivileged_groups=unprivileged_groups,\n",
        "                                                       privileged_groups=privileged_groups)\n",
        "    print(\"False positive rate difference = %f\" % orig_vs_preds_splits_metrics.false_positive_rate_difference())\n",
        "    tuned_fprd.append(orig_vs_preds_splits_metrics.false_positive_rate_difference())\n"
      ],
      "metadata": {
        "colab": {
          "base_uri": "https://localhost:8080/"
        },
        "id": "0jyRtxcx0btU",
        "outputId": "8fbfe7e3-c551-4d75-d010-0f76c6b4bfc5"
      },
      "execution_count": 15,
      "outputs": [
        {
          "output_type": "stream",
          "name": "stdout",
          "text": [
            "\n",
            "Split after hyperparameter tuning iteration:  1\n",
            "Overall accuracy:  0.8154285714285714\n",
            "Accuracy for the privileged group:  0.8070056802813091\n",
            "Accuracy for the unprivileged group 0.8248561913412049\n",
            "Disparate Impact = 0.767548\n",
            "False positive rate difference = -0.065488\n",
            "\n",
            "Split after hyperparameter tuning iteration:  2\n",
            "Overall accuracy:  0.8094285714285714\n",
            "Accuracy for the privileged group:  0.8034199542210853\n",
            "Accuracy for the unprivileged group 0.8162178609462954\n",
            "Disparate Impact = 0.799102\n",
            "False positive rate difference = -0.065488\n",
            "\n",
            "Split after hyperparameter tuning iteration:  3\n",
            "Overall accuracy:  0.808\n",
            "Accuracy for the privileged group:  0.8020346439373109\n",
            "Accuracy for the unprivileged group 0.8144513826940232\n",
            "Disparate Impact = 0.743811\n",
            "False positive rate difference = -0.045498\n",
            "\n",
            "Split after hyperparameter tuning iteration:  4\n",
            "Overall accuracy:  0.8139285714285714\n",
            "Accuracy for the privileged group:  0.8084671930302205\n",
            "Accuracy for the unprivileged group 0.8199579200480914\n",
            "Disparate Impact = 0.748330\n",
            "False positive rate difference = -0.046432\n",
            "\n",
            "Split after hyperparameter tuning iteration:  5\n",
            "Overall accuracy:  0.8140714285714286\n",
            "Accuracy for the privileged group:  0.806931368535953\n",
            "Accuracy for the unprivileged group 0.8219157547594064\n",
            "Disparate Impact = 0.767478\n",
            "False positive rate difference = -0.053654\n",
            "\n",
            "Split after hyperparameter tuning iteration:  6\n",
            "Overall accuracy:  0.8122857142857143\n",
            "Accuracy for the privileged group:  0.8105192178017532\n",
            "Accuracy for the unprivileged group 0.8142748671222475\n",
            "Disparate Impact = 0.759259\n",
            "False positive rate difference = -0.032944\n",
            "\n",
            "Split after hyperparameter tuning iteration:  7\n",
            "Overall accuracy:  0.8130714285714286\n",
            "Accuracy for the privileged group:  0.813421729130023\n",
            "Accuracy for the unprivileged group 0.8126796792252988\n",
            "Disparate Impact = 0.782761\n",
            "False positive rate difference = -0.049647\n",
            "\n",
            "Split after hyperparameter tuning iteration:  8\n",
            "Overall accuracy:  0.8128571428571428\n",
            "Accuracy for the privileged group:  0.8045540796963947\n",
            "Accuracy for the unprivileged group 0.8221081244337058\n",
            "Disparate Impact = 0.726559\n",
            "False positive rate difference = -0.056606\n",
            "\n",
            "Split after hyperparameter tuning iteration:  9\n",
            "Overall accuracy:  0.8146428571428571\n",
            "Accuracy for the privileged group:  0.8054879697215463\n",
            "Accuracy for the unprivileged group 0.8249015449863678\n",
            "Disparate Impact = 0.748576\n",
            "False positive rate difference = -0.054113\n",
            "\n",
            "Split after hyperparameter tuning iteration:  10\n",
            "Overall accuracy:  0.8090714285714286\n",
            "Accuracy for the privileged group:  0.8031454085032653\n",
            "Accuracy for the unprivileged group 0.8159150377097122\n",
            "Disparate Impact = 0.761689\n",
            "False positive rate difference = -0.058579\n"
          ]
        }
      ]
    },
    {
      "cell_type": "code",
      "source": [
        "plot_init_v_tuned_box(init_accuracy, tuned_accuracy, \"Overall accuracy\")\n",
        "plot_init_v_tuned_box(init_acc_priv, tuned_acc_priv, \"Accuracy for the privileged group\")\n",
        "plot_init_v_tuned_box(init_acc_unpr, tuned_acc_unpr, \"Accuracy for the unprivileged group\")\n",
        "plot_init_v_tuned_box(init_di, tuned_di, \"Disparate Impact\")\n",
        "plot_init_v_tuned_box(init_fprd, tuned_fprd, \"False positive rate difference\")"
      ],
      "metadata": {
        "colab": {
          "base_uri": "https://localhost:8080/",
          "height": 1000
        },
        "id": "8xbaHH_a3RPh",
        "outputId": "1e36c8e6-ef6a-41ed-b530-59d5b567d705"
      },
      "execution_count": 16,
      "outputs": [
        {
          "output_type": "stream",
          "name": "stderr",
          "text": [
            "WARNING:matplotlib.legend:No handles with labels found to put in legend.\n"
          ]
        },
        {
          "output_type": "display_data",
          "data": {
            "image/png": "[encoded data removed]",
            "text/plain": [
              "<Figure size 432x288 with 1 Axes>"
            ]
          },
          "metadata": {
            "needs_background": "light"
          }
        },
        {
          "output_type": "stream",
          "name": "stderr",
          "text": [
            "WARNING:matplotlib.legend:No handles with labels found to put in legend.\n"
          ]
        },
        {
          "output_type": "display_data",
          "data": {
            "image/png": "[encoded data removed]",
            "text/plain": [
              "<Figure size 432x288 with 1 Axes>"
            ]
          },
          "metadata": {
            "needs_background": "light"
          }
        },
        {
          "output_type": "stream",
          "name": "stderr",
          "text": [
            "WARNING:matplotlib.legend:No handles with labels found to put in legend.\n"
          ]
        },
        {
          "output_type": "display_data",
          "data": {
            "image/png": "[encoded data removed]",
            "text/plain": [
              "<Figure size 432x288 with 1 Axes>"
            ]
          },
          "metadata": {
            "needs_background": "light"
          }
        },
        {
          "output_type": "stream",
          "name": "stderr",
          "text": [
            "WARNING:matplotlib.legend:No handles with labels found to put in legend.\n"
          ]
        },
        {
          "output_type": "display_data",
          "data": {
            "image/png": "[encoded data removed]",
            "text/plain": [
              "<Figure size 432x288 with 1 Axes>"
            ]
          },
          "metadata": {
            "needs_background": "light"
          }
        },
        {
          "output_type": "stream",
          "name": "stderr",
          "text": [
            "WARNING:matplotlib.legend:No handles with labels found to put in legend.\n"
          ]
        },
        {
          "output_type": "display_data",
          "data": {
            "image/png": "[encoded data removed]",
            "text/plain": [
              "<Figure size 432x288 with 1 Axes>"
            ]
          },
          "metadata": {
            "needs_background": "light"
          }
        }
      ]
    },
    {
      "cell_type": "markdown",
      "metadata": {
        "id": "uKhDj-XJRUJL"
      },
      "source": [
        "# Problem 2, Part (c) \n",
        "### **Disparate Impact Pre-Processing intervention**"
      ]
    },
    {
      "cell_type": "code",
      "metadata": {
        "id": "8NToBvrQiWIz"
      },
      "source": [
        "def plot_repair_levels(repair_levels, metric_vals, metric_name, x_label='Repair level'):\n",
        "  '''Creates a line plot showing how the metric changed for different values of repair level'''\n",
        "\n",
        "  # Plot the metrics\n",
        "  plt.plot(repair_levels, metric_vals, color='#0384fc', linewidth=3, label=metric_name)\n",
        "\n",
        "  # Create labels, etc. \n",
        "  plt.xlabel(x_label)\n",
        "  plt.ylabel(metric_name)\n",
        "  plt.legend()\n",
        "  plt.show()"
      ],
      "execution_count": 17,
      "outputs": []
    },
    {
      "cell_type": "markdown",
      "source": [
        "### Apply pre-processing techniques to the dataset, then re-train the models with the optimal hyperparameters from part **b**"
      ],
      "metadata": {
        "id": "xOzr7aximZVH"
      }
    },
    {
      "cell_type": "code",
      "source": [
        "#YOUR CODE HERE\n",
        "\n",
        "# Disparate Impact Remover\n",
        "\n",
        "# Repair levels\n",
        "repairs = [0.2, 0.4, 0.6, 0.8, 1.0]\n",
        "\n",
        "# Metrics array\n",
        "DI_accuracy = []\n",
        "DI_acc_priv = []\n",
        "DI_acc_unpr = []\n",
        "DI_di = []\n",
        "DI_fprd = []\n",
        "\n",
        "for i in range(len(repairs)):\n",
        "    print(\"\\nRepair level : \", repairs[i])\n",
        "    di = DisparateImpactRemover(repair_level=repairs[i])\n",
        "    dataset_DI = di.fit_transform(dataset_orig)\n",
        "    \n",
        "    train_DI, test_DI = dataset_DI.split([0.8], shuffle=True)\n",
        "    train_DI, val_DI = train_DI.split([0.875], shuffle=True)\n",
        "    train_DI_df, _ = train_DI.convert_to_dataframe()\n",
        "    val_DI_df, _ = val_DI.convert_to_dataframe()\n",
        "    test_DI_df, _ = test_DI.convert_to_dataframe()\n",
        "\n",
        "    x_train = train_DI_df.drop([target], axis=1)\n",
        "    y_train = train_DI_df.PINCP\n",
        "    x_test = test_DI_df.drop([target], axis=1)\n",
        "    y_test = test_DI_df.PINCP\n",
        "\n",
        "    DI_rf = RandomForestClassifier(max_depth=10, n_estimators=20)\n",
        "    DI_rf = DI_rf.fit(x_train, y_train, sample_weight=None)\n",
        "    \n",
        "    accuracy, _ = evaluate(DI_rf, x_test, y_test)\n",
        "    DI_accuracy.append(accuracy)\n",
        "    print(\"Overall accuracy: \", accuracy)\n",
        "\n",
        "    test_priv_DI = test_DI_df[test_DI_df['SEX'] == 1.0]\n",
        "    x_priv_DI = test_priv_DI.drop([target], axis=1)\n",
        "    y_priv_DI = test_priv_DI.PINCP\n",
        "    accuracy, _ = evaluate(DI_rf, x_priv_DI, y_priv_DI)\n",
        "    DI_acc_priv.append(accuracy)\n",
        "    print(\"Accuracy for the privileged group: \", accuracy)\n",
        "\n",
        "    test_unpr_DI = test_DI_df[test_DI_df['SEX'] == 2.0]\n",
        "    x_unpr_DI = test_unpr_DI.drop([target], axis=1)\n",
        "    y_unpr_DI = test_unpr_DI.PINCP\n",
        "    accuracy, _ = evaluate(DI_rf, x_unpr_DI, y_unpr_DI)\n",
        "    DI_acc_unpr.append(accuracy)\n",
        "    print(\"Accuracy for the unprivileged group\", accuracy)\n",
        "\n",
        "    metric_DI = BinaryLabelDatasetMetric(\n",
        "         test_DI, \n",
        "         unprivileged_groups=unprivileged_groups,\n",
        "         privileged_groups=privileged_groups\n",
        "      )\n",
        "    print(\"Disparate Impact = %f\" % metric_DI.disparate_impact())\n",
        "    DI_di.append(metric_DI.disparate_impact())\n",
        "\n",
        "    test_preds_df = test_DI_df.copy()\n",
        "    test_preds_df['PINCP'] = DI_rf.predict(x_test)\n",
        "    orig_aif360 = StandardDataset(test_DI_df, label_name='PINCP', protected_attribute_names=['SEX'], \n",
        "                    privileged_classes=[[1]], favorable_classes=[1])\n",
        "    preds_aif360 = StandardDataset(test_preds_df, label_name='PINCP', protected_attribute_names=['SEX'], \n",
        "                    privileged_classes=[[1]], favorable_classes=[1])\n",
        "    orig_vs_preds_DI_metrics = ClassificationMetric(orig_aif360, preds_aif360,\n",
        "                                                       unprivileged_groups=unprivileged_groups,\n",
        "                                                       privileged_groups=privileged_groups)\n",
        "    print(\"False positive rate difference = %f\" % orig_vs_preds_DI_metrics.false_positive_rate_difference())\n",
        "    DI_fprd.append(orig_vs_preds_DI_metrics.false_positive_rate_difference())\n"
      ],
      "metadata": {
        "colab": {
          "base_uri": "https://localhost:8080/"
        },
        "id": "gslETyn47zId",
        "outputId": "037d8686-cd76-4226-dbe9-4fb75ab1329f"
      },
      "execution_count": 18,
      "outputs": [
        {
          "output_type": "stream",
          "name": "stdout",
          "text": [
            "\n",
            "Repair level :  0.2\n",
            "Overall accuracy:  0.8112142857142857\n",
            "Accuracy for the privileged group:  0.8109830508474576\n",
            "Accuracy for the unprivileged group 0.8114716981132075\n",
            "Disparate Impact = 0.749218\n",
            "False positive rate difference = -0.043809\n",
            "\n",
            "Repair level :  0.4\n",
            "Overall accuracy:  0.8097857142857143\n",
            "Accuracy for the privileged group:  0.7995981245813798\n",
            "Accuracy for the unprivileged group 0.8214231063504208\n",
            "Disparate Impact = 0.776279\n",
            "False positive rate difference = -0.058846\n",
            "\n",
            "Repair level :  0.6\n",
            "Overall accuracy:  0.8087857142857143\n",
            "Accuracy for the privileged group:  0.7995954146999326\n",
            "Accuracy for the unprivileged group 0.8191343963553531\n",
            "Disparate Impact = 0.774339\n",
            "False positive rate difference = -0.059828\n",
            "\n",
            "Repair level :  0.8\n",
            "Overall accuracy:  0.807\n",
            "Accuracy for the privileged group:  0.8012056262558607\n",
            "Accuracy for the unprivileged group 0.8136189747513389\n",
            "Disparate Impact = 0.751296\n",
            "False positive rate difference = -0.059344\n",
            "\n",
            "Repair level :  1.0\n",
            "Overall accuracy:  0.8082142857142857\n",
            "Accuracy for the privileged group:  0.8008152173913043\n",
            "Accuracy for the unprivileged group 0.8164156626506024\n",
            "Disparate Impact = 0.802264\n",
            "False positive rate difference = -0.078985\n"
          ]
        }
      ]
    },
    {
      "cell_type": "code",
      "source": [
        "plot_repair_levels(repairs, DI_accuracy, \"Overall accuracy\", x_label='Repair level')\n",
        "plot_repair_levels(repairs, DI_acc_priv, \"Accuracy for the privileged group\", x_label='Repair level')\n",
        "plot_repair_levels(repairs, DI_acc_unpr, \"Accuracy for the unprivileged group\", x_label='Repair level')\n",
        "plot_repair_levels(repairs, DI_di, \"Disparate Impact\", x_label='Repair level')\n",
        "plot_repair_levels(repairs, DI_fprd, \"False positive rate difference\", x_label='Repair level')"
      ],
      "metadata": {
        "colab": {
          "base_uri": "https://localhost:8080/",
          "height": 1000
        },
        "id": "JIWclk1Z8JfX",
        "outputId": "e0ddcf90-cb15-4dd4-99a6-f51e0dffa8c9"
      },
      "execution_count": 19,
      "outputs": [
        {
          "output_type": "display_data",
          "data": {
            "image/png": "[encoded data removed]",
            "text/plain": [
              "<Figure size 432x288 with 1 Axes>"
            ]
          },
          "metadata": {
            "needs_background": "light"
          }
        },
        {
          "output_type": "display_data",
          "data": {
            "image/png": "[encoded data removed]",
            "text/plain": [
              "<Figure size 432x288 with 1 Axes>"
            ]
          },
          "metadata": {
            "needs_background": "light"
          }
        },
        {
          "output_type": "display_data",
          "data": {
            "image/png": "[encoded data removed]",
            "text/plain": [
              "<Figure size 432x288 with 1 Axes>"
            ]
          },
          "metadata": {
            "needs_background": "light"
          }
        },
        {
          "output_type": "display_data",
          "data": {
            "image/png": "[encoded data removed]",
            "text/plain": [
              "<Figure size 432x288 with 1 Axes>"
            ]
          },
          "metadata": {
            "needs_background": "light"
          }
        },
        {
          "output_type": "display_data",
          "data": {
            "image/png": "[encoded data removed]",
            "text/plain": [
              "<Figure size 432x288 with 1 Axes>"
            ]
          },
          "metadata": {
            "needs_background": "light"
          }
        }
      ]
    },
    {
      "cell_type": "markdown",
      "source": [
        "# Problem 2, Part (d) \n",
        "### **Prejudice Remover In-Processing intervention**\n",
        "\n"
      ],
      "metadata": {
        "id": "gu1xtZ6ExCdU"
      }
    },
    {
      "cell_type": "code",
      "source": [
        "def plot_eta_parameter(eta, metric_vals, metric_name, x_label='eta parameter'):\n",
        "  '''Creates a line plot showing how the metric changed for different values of eta'''\n",
        "\n",
        "  # Plot the metrics\n",
        "  plt.plot(eta, metric_vals, color='#0384fc', linewidth=3, label=metric_name)\n",
        "\n",
        "  # Create labels, etc. \n",
        "  plt.xlabel(x_label)\n",
        "  plt.ylabel(metric_name)\n",
        "  plt.legend()\n",
        "  plt.show()"
      ],
      "metadata": {
        "id": "KH3rbsCdYWha"
      },
      "execution_count": 20,
      "outputs": []
    },
    {
      "cell_type": "markdown",
      "source": [
        "### Fit new models using the Prejudice Remover technique"
      ],
      "metadata": {
        "id": "f3oBrlsSncYr"
      }
    },
    {
      "cell_type": "code",
      "source": [
        "#YOUR CODE HERE\n",
        "\n",
        "etas = [0.01, 0.1, 1]\n",
        "\n",
        "PR_accuracy = []\n",
        "PR_di = []\n",
        "\n",
        "\n",
        "# Prejudice Remover\n",
        "for eta in etas:\n",
        "    print(\"\\neta : \", eta)\n",
        "    pr = PrejudiceRemover(eta=eta)\n",
        "\n",
        "    train_PR = pr.fit(train_splits)\n",
        "    test_pred_PR = pr.predict(test_splits)\n",
        "    val_pred_PR = pr.predict(val_splits)\n",
        "\n",
        "    accuracy = accuracy_score(test_splits_df.PINCP, test_pred_PR.labels)\n",
        "    PR_accuracy.append(accuracy)\n",
        "    print(\"Overall accuracy: \", accuracy)\n",
        "\n",
        "    metric_PR = BinaryLabelDatasetMetric(\n",
        "         test_pred_PR, \n",
        "         unprivileged_groups=unprivileged_groups,\n",
        "         privileged_groups=privileged_groups\n",
        "      )\n",
        "    print(\"Disparate Impact = %f\" % metric_PR.disparate_impact())\n",
        "    PR_di.append(metric_PR.disparate_impact())\n",
        "\n"
      ],
      "metadata": {
        "id": "NiejOOrrfEiG",
        "colab": {
          "base_uri": "https://localhost:8080/"
        },
        "outputId": "828a7db0-2471-47d4-c22e-802431f4e2db"
      },
      "execution_count": null,
      "outputs": [
        {
          "output_type": "stream",
          "name": "stdout",
          "text": [
            "\n",
            "eta :  0.01\n"
          ]
        }
      ]
    },
    {
      "cell_type": "code",
      "source": [
        "plot_eta_parameter(etas, PR_accuracy, \"Overall accuracy\", x_label='eta')\n",
        "plot_eta_parameter(etas, PR_di, \"Disparate Impact\", x_label='eta')"
      ],
      "metadata": {
        "id": "S7VFYeV8YxNp"
      },
      "execution_count": null,
      "outputs": []
    },
    {
      "cell_type": "markdown",
      "metadata": {
        "id": "v6Mgr2iiLb_k"
      },
      "source": [
        "# Problem 2, Part (e) \n",
        "### **Reject Option Post-Processing intervention**"
      ]
    },
    {
      "cell_type": "markdown",
      "source": [
        "### Using the same random forest models as before, apply the post-processing technique to your results and compare"
      ],
      "metadata": {
        "id": "ZvbKbKM1nuLY"
      }
    },
    {
      "cell_type": "code",
      "source": [
        ""
      ],
      "metadata": {
        "id": "KHie1gQyLfty"
      },
      "execution_count": null,
      "outputs": []
    },
    {
      "cell_type": "code",
      "source": [
        "#YOUR CODE HERE\n",
        "\n",
        "x_val = val_splits_df.drop([target], axis=1)\n",
        "y_val = val_splits_df.PINCP\n",
        "\n",
        "temp_rf = temp_rf.fit(x_val, y_val, sample_weight=None)\n",
        "\n",
        "roc_score = temp_rf.predict_proba(x_val)\n",
        "# roc_score = [row[1] for row in roc_score]"
      ],
      "metadata": {
        "id": "RK6qmQ_-3MTD"
      },
      "execution_count": 274,
      "outputs": []
    },
    {
      "cell_type": "code",
      "source": [
        "val_roc = val_splits.copy()\n",
        "val_roc.scores = roc_score"
      ],
      "metadata": {
        "id": "CVXDpvN3jSgD"
      },
      "execution_count": 275,
      "outputs": []
    },
    {
      "cell_type": "code",
      "source": [
        "roc = RejectOptionClassification(unprivileged_groups=unprivileged_groups, privileged_groups=privileged_groups)\n",
        "roc = roc.fit(val_roc, val_roc)"
      ],
      "metadata": {
        "colab": {
          "base_uri": "https://localhost:8080/",
          "height": 347
        },
        "id": "HcX3nuIAk82p",
        "outputId": "ebcae20d-93a1-4a48-db3a-71502316c25e"
      },
      "execution_count": 286,
      "outputs": [
        {
          "output_type": "error",
          "ename": "ValueError",
          "evalue": "ignored",
          "traceback": [
            "\u001b[0;31m---------------------------------------------------------------------------\u001b[0m",
            "\u001b[0;31mValueError\u001b[0m                                Traceback (most recent call last)",
            "\u001b[0;32m<ipython-input-286-28130c550cce>\u001b[0m in \u001b[0;36m<module>\u001b[0;34m()\u001b[0m\n\u001b[1;32m      1\u001b[0m \u001b[0mroc\u001b[0m \u001b[0;34m=\u001b[0m \u001b[0mRejectOptionClassification\u001b[0m\u001b[0;34m(\u001b[0m\u001b[0munprivileged_groups\u001b[0m\u001b[0;34m=\u001b[0m\u001b[0munprivileged_groups\u001b[0m\u001b[0;34m,\u001b[0m \u001b[0mprivileged_groups\u001b[0m\u001b[0;34m=\u001b[0m\u001b[0mprivileged_groups\u001b[0m\u001b[0;34m)\u001b[0m\u001b[0;34m\u001b[0m\u001b[0;34m\u001b[0m\u001b[0m\n\u001b[0;32m----> 2\u001b[0;31m \u001b[0mroc\u001b[0m \u001b[0;34m=\u001b[0m \u001b[0mroc\u001b[0m\u001b[0;34m.\u001b[0m\u001b[0mfit\u001b[0m\u001b[0;34m(\u001b[0m\u001b[0mval_roc\u001b[0m\u001b[0;34m,\u001b[0m \u001b[0mval_roc\u001b[0m\u001b[0;34m)\u001b[0m\u001b[0;34m\u001b[0m\u001b[0;34m\u001b[0m\u001b[0m\n\u001b[0m",
            "\u001b[0;32m/usr/local/lib/python3.7/dist-packages/aif360/algorithms/transformer.py\u001b[0m in \u001b[0;36mwrapper\u001b[0;34m(self, *args, **kwargs)\u001b[0m\n\u001b[1;32m     25\u001b[0m     \u001b[0;34m@\u001b[0m\u001b[0mwraps\u001b[0m\u001b[0;34m(\u001b[0m\u001b[0mfunc\u001b[0m\u001b[0;34m)\u001b[0m\u001b[0;34m\u001b[0m\u001b[0;34m\u001b[0m\u001b[0m\n\u001b[1;32m     26\u001b[0m     \u001b[0;32mdef\u001b[0m \u001b[0mwrapper\u001b[0m\u001b[0;34m(\u001b[0m\u001b[0mself\u001b[0m\u001b[0;34m,\u001b[0m \u001b[0;34m*\u001b[0m\u001b[0margs\u001b[0m\u001b[0;34m,\u001b[0m \u001b[0;34m**\u001b[0m\u001b[0mkwargs\u001b[0m\u001b[0;34m)\u001b[0m\u001b[0;34m:\u001b[0m\u001b[0;34m\u001b[0m\u001b[0;34m\u001b[0m\u001b[0m\n\u001b[0;32m---> 27\u001b[0;31m         \u001b[0mnew_dataset\u001b[0m \u001b[0;34m=\u001b[0m \u001b[0mfunc\u001b[0m\u001b[0;34m(\u001b[0m\u001b[0mself\u001b[0m\u001b[0;34m,\u001b[0m \u001b[0;34m*\u001b[0m\u001b[0margs\u001b[0m\u001b[0;34m,\u001b[0m \u001b[0;34m**\u001b[0m\u001b[0mkwargs\u001b[0m\u001b[0;34m)\u001b[0m\u001b[0;34m\u001b[0m\u001b[0;34m\u001b[0m\u001b[0m\n\u001b[0m\u001b[1;32m     28\u001b[0m         \u001b[0;32mif\u001b[0m \u001b[0misinstance\u001b[0m\u001b[0;34m(\u001b[0m\u001b[0mnew_dataset\u001b[0m\u001b[0;34m,\u001b[0m \u001b[0mDataset\u001b[0m\u001b[0;34m)\u001b[0m\u001b[0;34m:\u001b[0m\u001b[0;34m\u001b[0m\u001b[0;34m\u001b[0m\u001b[0m\n\u001b[1;32m     29\u001b[0m             \u001b[0mnew_dataset\u001b[0m\u001b[0;34m.\u001b[0m\u001b[0mmetadata\u001b[0m \u001b[0;34m=\u001b[0m \u001b[0mnew_dataset\u001b[0m\u001b[0;34m.\u001b[0m\u001b[0mmetadata\u001b[0m\u001b[0;34m.\u001b[0m\u001b[0mcopy\u001b[0m\u001b[0;34m(\u001b[0m\u001b[0;34m)\u001b[0m\u001b[0;34m\u001b[0m\u001b[0;34m\u001b[0m\u001b[0m\n",
            "\u001b[0;32m/usr/local/lib/python3.7/dist-packages/aif360/algorithms/postprocessing/reject_option_classification.py\u001b[0m in \u001b[0;36mfit\u001b[0;34m(self, dataset_true, dataset_pred)\u001b[0m\n\u001b[1;32m    141\u001b[0m \u001b[0;34m\u001b[0m\u001b[0m\n\u001b[1;32m    142\u001b[0m                 \u001b[0;31m# Balanced accuracy and fairness metric computations\u001b[0m\u001b[0;34m\u001b[0m\u001b[0;34m\u001b[0m\u001b[0;34m\u001b[0m\u001b[0m\n\u001b[0;32m--> 143\u001b[0;31m                 balanced_acc_arr[cnt] = 0.5*(classified_transf_metric.true_positive_rate()\\\n\u001b[0m\u001b[1;32m    144\u001b[0m                                        +classified_transf_metric.true_negative_rate())\n\u001b[1;32m    145\u001b[0m                 \u001b[0;32mif\u001b[0m \u001b[0mself\u001b[0m\u001b[0;34m.\u001b[0m\u001b[0mmetric_name\u001b[0m \u001b[0;34m==\u001b[0m \u001b[0;34m\"Statistical parity difference\"\u001b[0m\u001b[0;34m:\u001b[0m\u001b[0;34m\u001b[0m\u001b[0;34m\u001b[0m\u001b[0m\n",
            "\u001b[0;32m/usr/local/lib/python3.7/dist-packages/aif360/metrics/metric.py\u001b[0m in \u001b[0;36mwrapper\u001b[0;34m(*args, **kwargs)\u001b[0m\n\u001b[1;32m     35\u001b[0m         \u001b[0;32mif\u001b[0m \u001b[0mresult\u001b[0m \u001b[0;32mis\u001b[0m \u001b[0;32mnot\u001b[0m \u001b[0msentinal\u001b[0m\u001b[0;34m:\u001b[0m\u001b[0;34m\u001b[0m\u001b[0;34m\u001b[0m\u001b[0m\n\u001b[1;32m     36\u001b[0m             \u001b[0;32mreturn\u001b[0m \u001b[0mresult\u001b[0m\u001b[0;34m\u001b[0m\u001b[0;34m\u001b[0m\u001b[0m\n\u001b[0;32m---> 37\u001b[0;31m         \u001b[0mresult\u001b[0m \u001b[0;34m=\u001b[0m \u001b[0mfunc\u001b[0m\u001b[0;34m(\u001b[0m\u001b[0;34m*\u001b[0m\u001b[0margs\u001b[0m\u001b[0;34m,\u001b[0m \u001b[0;34m**\u001b[0m\u001b[0mkwargs\u001b[0m\u001b[0;34m)\u001b[0m\u001b[0;34m\u001b[0m\u001b[0;34m\u001b[0m\u001b[0m\n\u001b[0m\u001b[1;32m     38\u001b[0m         \u001b[0mcache\u001b[0m\u001b[0;34m[\u001b[0m\u001b[0mkey\u001b[0m\u001b[0;34m]\u001b[0m \u001b[0;34m=\u001b[0m \u001b[0mresult\u001b[0m\u001b[0;34m\u001b[0m\u001b[0;34m\u001b[0m\u001b[0m\n\u001b[1;32m     39\u001b[0m         \u001b[0;32mreturn\u001b[0m \u001b[0mresult\u001b[0m\u001b[0;34m\u001b[0m\u001b[0;34m\u001b[0m\u001b[0m\n",
            "\u001b[0;32m/usr/local/lib/python3.7/dist-packages/aif360/metrics/classification_metric.py\u001b[0m in \u001b[0;36mtrue_positive_rate\u001b[0;34m(self, privileged)\u001b[0m\n\u001b[1;32m    300\u001b[0m                 \u001b[0mmust\u001b[0m \u001b[0mbe\u001b[0m \u001b[0mprovided\u001b[0m \u001b[0mat\u001b[0m \u001b[0minitialization\u001b[0m \u001b[0mto\u001b[0m \u001b[0mcondition\u001b[0m \u001b[0mon\u001b[0m \u001b[0mthem\u001b[0m\u001b[0;34m.\u001b[0m\u001b[0;34m\u001b[0m\u001b[0;34m\u001b[0m\u001b[0m\n\u001b[1;32m    301\u001b[0m         \"\"\"\n\u001b[0;32m--> 302\u001b[0;31m         \u001b[0;32mreturn\u001b[0m \u001b[0mself\u001b[0m\u001b[0;34m.\u001b[0m\u001b[0mperformance_measures\u001b[0m\u001b[0;34m(\u001b[0m\u001b[0mprivileged\u001b[0m\u001b[0;34m=\u001b[0m\u001b[0mprivileged\u001b[0m\u001b[0;34m)\u001b[0m\u001b[0;34m[\u001b[0m\u001b[0;34m'TPR'\u001b[0m\u001b[0;34m]\u001b[0m\u001b[0;34m\u001b[0m\u001b[0;34m\u001b[0m\u001b[0m\n\u001b[0m\u001b[1;32m    303\u001b[0m \u001b[0;34m\u001b[0m\u001b[0m\n\u001b[1;32m    304\u001b[0m     \u001b[0;32mdef\u001b[0m \u001b[0mfalse_positive_rate\u001b[0m\u001b[0;34m(\u001b[0m\u001b[0mself\u001b[0m\u001b[0;34m,\u001b[0m \u001b[0mprivileged\u001b[0m\u001b[0;34m=\u001b[0m\u001b[0;32mNone\u001b[0m\u001b[0;34m)\u001b[0m\u001b[0;34m:\u001b[0m\u001b[0;34m\u001b[0m\u001b[0;34m\u001b[0m\u001b[0m\n",
            "\u001b[0;32m/usr/local/lib/python3.7/dist-packages/aif360/metrics/metric.py\u001b[0m in \u001b[0;36mwrapper\u001b[0;34m(*args, **kwargs)\u001b[0m\n\u001b[1;32m     35\u001b[0m         \u001b[0;32mif\u001b[0m \u001b[0mresult\u001b[0m \u001b[0;32mis\u001b[0m \u001b[0;32mnot\u001b[0m \u001b[0msentinal\u001b[0m\u001b[0;34m:\u001b[0m\u001b[0;34m\u001b[0m\u001b[0;34m\u001b[0m\u001b[0m\n\u001b[1;32m     36\u001b[0m             \u001b[0;32mreturn\u001b[0m \u001b[0mresult\u001b[0m\u001b[0;34m\u001b[0m\u001b[0;34m\u001b[0m\u001b[0m\n\u001b[0;32m---> 37\u001b[0;31m         \u001b[0mresult\u001b[0m \u001b[0;34m=\u001b[0m \u001b[0mfunc\u001b[0m\u001b[0;34m(\u001b[0m\u001b[0;34m*\u001b[0m\u001b[0margs\u001b[0m\u001b[0;34m,\u001b[0m \u001b[0;34m**\u001b[0m\u001b[0mkwargs\u001b[0m\u001b[0;34m)\u001b[0m\u001b[0;34m\u001b[0m\u001b[0;34m\u001b[0m\u001b[0m\n\u001b[0m\u001b[1;32m     38\u001b[0m         \u001b[0mcache\u001b[0m\u001b[0;34m[\u001b[0m\u001b[0mkey\u001b[0m\u001b[0;34m]\u001b[0m \u001b[0;34m=\u001b[0m \u001b[0mresult\u001b[0m\u001b[0;34m\u001b[0m\u001b[0;34m\u001b[0m\u001b[0m\n\u001b[1;32m     39\u001b[0m         \u001b[0;32mreturn\u001b[0m \u001b[0mresult\u001b[0m\u001b[0;34m\u001b[0m\u001b[0;34m\u001b[0m\u001b[0m\n",
            "\u001b[0;32m/usr/local/lib/python3.7/dist-packages/aif360/metrics/classification_metric.py\u001b[0m in \u001b[0;36mperformance_measures\u001b[0;34m(self, privileged)\u001b[0m\n\u001b[1;32m    264\u001b[0m             \u001b[0;34m(\u001b[0m\u001b[0moptionally\u001b[0m \u001b[0mconditioned\u001b[0m\u001b[0;34m)\u001b[0m\u001b[0;34m.\u001b[0m\u001b[0;34m\u001b[0m\u001b[0;34m\u001b[0m\u001b[0m\n\u001b[1;32m    265\u001b[0m         \"\"\"\n\u001b[0;32m--> 266\u001b[0;31m         \u001b[0mTP\u001b[0m \u001b[0;34m=\u001b[0m \u001b[0mself\u001b[0m\u001b[0;34m.\u001b[0m\u001b[0mnum_true_positives\u001b[0m\u001b[0;34m(\u001b[0m\u001b[0mprivileged\u001b[0m\u001b[0;34m=\u001b[0m\u001b[0mprivileged\u001b[0m\u001b[0;34m)\u001b[0m\u001b[0;34m\u001b[0m\u001b[0;34m\u001b[0m\u001b[0m\n\u001b[0m\u001b[1;32m    267\u001b[0m         \u001b[0mFP\u001b[0m \u001b[0;34m=\u001b[0m \u001b[0mself\u001b[0m\u001b[0;34m.\u001b[0m\u001b[0mnum_false_positives\u001b[0m\u001b[0;34m(\u001b[0m\u001b[0mprivileged\u001b[0m\u001b[0;34m=\u001b[0m\u001b[0mprivileged\u001b[0m\u001b[0;34m)\u001b[0m\u001b[0;34m\u001b[0m\u001b[0;34m\u001b[0m\u001b[0m\n\u001b[1;32m    268\u001b[0m         \u001b[0mFN\u001b[0m \u001b[0;34m=\u001b[0m \u001b[0mself\u001b[0m\u001b[0;34m.\u001b[0m\u001b[0mnum_false_negatives\u001b[0m\u001b[0;34m(\u001b[0m\u001b[0mprivileged\u001b[0m\u001b[0;34m=\u001b[0m\u001b[0mprivileged\u001b[0m\u001b[0;34m)\u001b[0m\u001b[0;34m\u001b[0m\u001b[0;34m\u001b[0m\u001b[0m\n",
            "\u001b[0;32m/usr/local/lib/python3.7/dist-packages/aif360/metrics/metric.py\u001b[0m in \u001b[0;36mwrapper\u001b[0;34m(*args, **kwargs)\u001b[0m\n\u001b[1;32m     35\u001b[0m         \u001b[0;32mif\u001b[0m \u001b[0mresult\u001b[0m \u001b[0;32mis\u001b[0m \u001b[0;32mnot\u001b[0m \u001b[0msentinal\u001b[0m\u001b[0;34m:\u001b[0m\u001b[0;34m\u001b[0m\u001b[0;34m\u001b[0m\u001b[0m\n\u001b[1;32m     36\u001b[0m             \u001b[0;32mreturn\u001b[0m \u001b[0mresult\u001b[0m\u001b[0;34m\u001b[0m\u001b[0;34m\u001b[0m\u001b[0m\n\u001b[0;32m---> 37\u001b[0;31m         \u001b[0mresult\u001b[0m \u001b[0;34m=\u001b[0m \u001b[0mfunc\u001b[0m\u001b[0;34m(\u001b[0m\u001b[0;34m*\u001b[0m\u001b[0margs\u001b[0m\u001b[0;34m,\u001b[0m \u001b[0;34m**\u001b[0m\u001b[0mkwargs\u001b[0m\u001b[0;34m)\u001b[0m\u001b[0;34m\u001b[0m\u001b[0;34m\u001b[0m\u001b[0m\n\u001b[0m\u001b[1;32m     38\u001b[0m         \u001b[0mcache\u001b[0m\u001b[0;34m[\u001b[0m\u001b[0mkey\u001b[0m\u001b[0;34m]\u001b[0m \u001b[0;34m=\u001b[0m \u001b[0mresult\u001b[0m\u001b[0;34m\u001b[0m\u001b[0;34m\u001b[0m\u001b[0m\n\u001b[1;32m     39\u001b[0m         \u001b[0;32mreturn\u001b[0m \u001b[0mresult\u001b[0m\u001b[0;34m\u001b[0m\u001b[0;34m\u001b[0m\u001b[0m\n",
            "\u001b[0;32m/usr/local/lib/python3.7/dist-packages/aif360/metrics/classification_metric.py\u001b[0m in \u001b[0;36mnum_true_positives\u001b[0;34m(self, privileged)\u001b[0m\n\u001b[1;32m    130\u001b[0m                 \u001b[0mmust\u001b[0m \u001b[0mbe\u001b[0m \u001b[0mprovided\u001b[0m \u001b[0mat\u001b[0m \u001b[0minitialization\u001b[0m \u001b[0mto\u001b[0m \u001b[0mcondition\u001b[0m \u001b[0mon\u001b[0m \u001b[0mthem\u001b[0m\u001b[0;34m.\u001b[0m\u001b[0;34m\u001b[0m\u001b[0;34m\u001b[0m\u001b[0m\n\u001b[1;32m    131\u001b[0m         \"\"\"\n\u001b[0;32m--> 132\u001b[0;31m         \u001b[0;32mreturn\u001b[0m \u001b[0mself\u001b[0m\u001b[0;34m.\u001b[0m\u001b[0mbinary_confusion_matrix\u001b[0m\u001b[0;34m(\u001b[0m\u001b[0mprivileged\u001b[0m\u001b[0;34m=\u001b[0m\u001b[0mprivileged\u001b[0m\u001b[0;34m)\u001b[0m\u001b[0;34m[\u001b[0m\u001b[0;34m'TP'\u001b[0m\u001b[0;34m]\u001b[0m\u001b[0;34m\u001b[0m\u001b[0;34m\u001b[0m\u001b[0m\n\u001b[0m\u001b[1;32m    133\u001b[0m \u001b[0;34m\u001b[0m\u001b[0m\n\u001b[1;32m    134\u001b[0m     \u001b[0;32mdef\u001b[0m \u001b[0mnum_false_positives\u001b[0m\u001b[0;34m(\u001b[0m\u001b[0mself\u001b[0m\u001b[0;34m,\u001b[0m \u001b[0mprivileged\u001b[0m\u001b[0;34m=\u001b[0m\u001b[0;32mNone\u001b[0m\u001b[0;34m)\u001b[0m\u001b[0;34m:\u001b[0m\u001b[0;34m\u001b[0m\u001b[0;34m\u001b[0m\u001b[0m\n",
            "\u001b[0;32m/usr/local/lib/python3.7/dist-packages/aif360/metrics/metric.py\u001b[0m in \u001b[0;36mwrapper\u001b[0;34m(*args, **kwargs)\u001b[0m\n\u001b[1;32m     35\u001b[0m         \u001b[0;32mif\u001b[0m \u001b[0mresult\u001b[0m \u001b[0;32mis\u001b[0m \u001b[0;32mnot\u001b[0m \u001b[0msentinal\u001b[0m\u001b[0;34m:\u001b[0m\u001b[0;34m\u001b[0m\u001b[0;34m\u001b[0m\u001b[0m\n\u001b[1;32m     36\u001b[0m             \u001b[0;32mreturn\u001b[0m \u001b[0mresult\u001b[0m\u001b[0;34m\u001b[0m\u001b[0;34m\u001b[0m\u001b[0m\n\u001b[0;32m---> 37\u001b[0;31m         \u001b[0mresult\u001b[0m \u001b[0;34m=\u001b[0m \u001b[0mfunc\u001b[0m\u001b[0;34m(\u001b[0m\u001b[0;34m*\u001b[0m\u001b[0margs\u001b[0m\u001b[0;34m,\u001b[0m \u001b[0;34m**\u001b[0m\u001b[0mkwargs\u001b[0m\u001b[0;34m)\u001b[0m\u001b[0;34m\u001b[0m\u001b[0;34m\u001b[0m\u001b[0m\n\u001b[0m\u001b[1;32m     38\u001b[0m         \u001b[0mcache\u001b[0m\u001b[0;34m[\u001b[0m\u001b[0mkey\u001b[0m\u001b[0;34m]\u001b[0m \u001b[0;34m=\u001b[0m \u001b[0mresult\u001b[0m\u001b[0;34m\u001b[0m\u001b[0;34m\u001b[0m\u001b[0m\n\u001b[1;32m     39\u001b[0m         \u001b[0;32mreturn\u001b[0m \u001b[0mresult\u001b[0m\u001b[0;34m\u001b[0m\u001b[0;34m\u001b[0m\u001b[0m\n",
            "\u001b[0;32m/usr/local/lib/python3.7/dist-packages/aif360/metrics/classification_metric.py\u001b[0m in \u001b[0;36mbinary_confusion_matrix\u001b[0;34m(self, privileged)\u001b[0m\n\u001b[1;32m     88\u001b[0m             \u001b[0mself\u001b[0m\u001b[0;34m.\u001b[0m\u001b[0mdataset\u001b[0m\u001b[0;34m.\u001b[0m\u001b[0mprotected_attribute_names\u001b[0m\u001b[0;34m,\u001b[0m\u001b[0;34m\u001b[0m\u001b[0;34m\u001b[0m\u001b[0m\n\u001b[1;32m     89\u001b[0m             \u001b[0mself\u001b[0m\u001b[0;34m.\u001b[0m\u001b[0mdataset\u001b[0m\u001b[0;34m.\u001b[0m\u001b[0mfavorable_label\u001b[0m\u001b[0;34m,\u001b[0m \u001b[0mself\u001b[0m\u001b[0;34m.\u001b[0m\u001b[0mdataset\u001b[0m\u001b[0;34m.\u001b[0m\u001b[0munfavorable_label\u001b[0m\u001b[0;34m,\u001b[0m\u001b[0;34m\u001b[0m\u001b[0;34m\u001b[0m\u001b[0m\n\u001b[0;32m---> 90\u001b[0;31m             condition=condition)\n\u001b[0m\u001b[1;32m     91\u001b[0m \u001b[0;34m\u001b[0m\u001b[0m\n\u001b[1;32m     92\u001b[0m     \u001b[0;32mdef\u001b[0m \u001b[0mgeneralized_binary_confusion_matrix\u001b[0m\u001b[0;34m(\u001b[0m\u001b[0mself\u001b[0m\u001b[0;34m,\u001b[0m \u001b[0mprivileged\u001b[0m\u001b[0;34m=\u001b[0m\u001b[0;32mNone\u001b[0m\u001b[0;34m)\u001b[0m\u001b[0;34m:\u001b[0m\u001b[0;34m\u001b[0m\u001b[0;34m\u001b[0m\u001b[0m\n",
            "\u001b[0;32m/usr/local/lib/python3.7/dist-packages/aif360/metrics/utils.py\u001b[0m in \u001b[0;36mcompute_num_TF_PN\u001b[0;34m(X, y_true, y_pred, w, feature_names, favorable_label, unfavorable_label, condition)\u001b[0m\n\u001b[1;32m    111\u001b[0m     \u001b[0my_true_pos\u001b[0m \u001b[0;34m=\u001b[0m \u001b[0;34m(\u001b[0m\u001b[0my_true\u001b[0m \u001b[0;34m==\u001b[0m \u001b[0mfavorable_label\u001b[0m\u001b[0;34m)\u001b[0m\u001b[0;34m\u001b[0m\u001b[0;34m\u001b[0m\u001b[0m\n\u001b[1;32m    112\u001b[0m     \u001b[0my_true_neg\u001b[0m \u001b[0;34m=\u001b[0m \u001b[0;34m(\u001b[0m\u001b[0my_true\u001b[0m \u001b[0;34m==\u001b[0m \u001b[0munfavorable_label\u001b[0m\u001b[0;34m)\u001b[0m\u001b[0;34m\u001b[0m\u001b[0;34m\u001b[0m\u001b[0m\n\u001b[0;32m--> 113\u001b[0;31m     \u001b[0my_pred_pos\u001b[0m \u001b[0;34m=\u001b[0m \u001b[0mnp\u001b[0m\u001b[0;34m.\u001b[0m\u001b[0mlogical_and\u001b[0m\u001b[0;34m(\u001b[0m\u001b[0my_pred\u001b[0m \u001b[0;34m==\u001b[0m \u001b[0mfavorable_label\u001b[0m\u001b[0;34m,\u001b[0m \u001b[0mcond_vec\u001b[0m\u001b[0;34m)\u001b[0m\u001b[0;34m\u001b[0m\u001b[0;34m\u001b[0m\u001b[0m\n\u001b[0m\u001b[1;32m    114\u001b[0m     \u001b[0my_pred_neg\u001b[0m \u001b[0;34m=\u001b[0m \u001b[0mnp\u001b[0m\u001b[0;34m.\u001b[0m\u001b[0mlogical_and\u001b[0m\u001b[0;34m(\u001b[0m\u001b[0my_pred\u001b[0m \u001b[0;34m==\u001b[0m \u001b[0munfavorable_label\u001b[0m\u001b[0;34m,\u001b[0m \u001b[0mcond_vec\u001b[0m\u001b[0;34m)\u001b[0m\u001b[0;34m\u001b[0m\u001b[0;34m\u001b[0m\u001b[0m\n\u001b[1;32m    115\u001b[0m \u001b[0;34m\u001b[0m\u001b[0m\n",
            "\u001b[0;31mValueError\u001b[0m: operands could not be broadcast together with shapes (14000,) (7000,) "
          ]
        }
      ]
    }
  ]
}